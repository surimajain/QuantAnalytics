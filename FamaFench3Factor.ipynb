{
  "nbformat": 4,
  "nbformat_minor": 0,
  "metadata": {
    "colab": {
      "name": "FamaFench3FactorWithSpark.ipynb",
      "provenance": [],
      "collapsed_sections": [],
      "authorship_tag": "ABX9TyNCbaiYxt0DKY+L9e+WMyB+"
    },
    "kernelspec": {
      "display_name": "Python 3",
      "name": "python3"
    },
    "language_info": {
      "name": "python"
    }
  },
  "cells": [
    {
      "cell_type": "code",
      "metadata": {
        "id": "LCX7jmBqjxg9"
      },
      "source": [
        "pip install pyspark"
      ],
      "execution_count": null,
      "outputs": []
    },
    {
      "cell_type": "code",
      "metadata": {
        "id": "fU30jkEPjYK7"
      },
      "source": [
        "from pyspark.sql import SparkSession\n",
        "from pyspark.sql.functions import *\n",
        "from pyspark.ml.feature import VectorAssembler\n",
        "from pyspark.ml.regression import LinearRegression\n",
        "from pyspark.ml.feature import MinMaxScaler\n",
        "# from handyspark import *\n",
        "import seaborn as sns\n",
        "from matplotlib import pyplot as plt"
      ],
      "execution_count": null,
      "outputs": []
    },
    {
      "cell_type": "code",
      "metadata": {
        "id": "QJ7Wuxrbkn4V"
      },
      "source": [
        "import pandas as pd\n",
        "ff=pd.read_csv(\"/content/F-F_Research_Data_Factors_daily 2.CSV\")\n",
        "ff.head(5)"
      ],
      "execution_count": null,
      "outputs": []
    },
    {
      "cell_type": "code",
      "metadata": {
        "colab": {
          "background_save": true
        },
        "id": "6Tj6owtwjkFD"
      },
      "source": [
        "spark = SparkSession.builder.appName('FamaFrench').getOrCreate()"
      ],
      "execution_count": null,
      "outputs": []
    },
    {
      "cell_type": "code",
      "metadata": {
        "colab": {
          "background_save": true
        },
        "id": "MN7DFue1kep4"
      },
      "source": [
        "csv_path = \"/content/allequities.csv\""
      ],
      "execution_count": null,
      "outputs": []
    },
    {
      "cell_type": "code",
      "metadata": {
        "colab": {
          "background_save": true
        },
        "id": "6HwxB9zNrPfq"
      },
      "source": [
        "import timeit"
      ],
      "execution_count": null,
      "outputs": []
    },
    {
      "cell_type": "code",
      "metadata": {
        "colab": {
          "background_save": true,
          "base_uri": "https://localhost:8080/"
        },
        "id": "a1DusEk3nhmF",
        "outputId": "d5db5f3e-8054-43a1-d468-5ab733096083"
      },
      "source": [
        "# print(%timeit)\n",
        "sdf_real_estate=spark.read.csv(csv_path,header=True, inferSchema=True)\n",
        "sdf_real_estate.groupBy('INSTRUMENT_IDENTIFIER').count().show()\n",
        "# print(%timeit)"
      ],
      "execution_count": null,
      "outputs": [
        {
          "output_type": "stream",
          "text": [
            "+---------------------+-----+\n",
            "|INSTRUMENT_IDENTIFIER|count|\n",
            "+---------------------+-----+\n",
            "|            Apple Inc| 4956|\n",
            "|  JPMorgan Chase & Co|  495|\n",
            "|         Facebook Inc| 4956|\n",
            "|              Addidas| 4956|\n",
            "|          Netflix Inc| 4956|\n",
            "+---------------------+-----+\n",
            "\n"
          ],
          "name": "stdout"
        }
      ]
    },
    {
      "cell_type": "code",
      "metadata": {
        "colab": {
          "background_save": true
        },
        "id": "Bi5nGC4BszLm"
      },
      "source": [
        "def getPandasDataframe():\n",
        "  pd_equity=pd.read_csv(csv_path,header=True, inferSchema=True)\n",
        "  pd_equity.groupBy('INSTRUMENT_IDENTIFIER').count()"
      ],
      "execution_count": null,
      "outputs": []
    },
    {
      "cell_type": "code",
      "metadata": {
        "colab": {
          "background_save": true,
          "base_uri": "https://localhost:8080/",
          "height": 185
        },
        "id": "Epp5E36RrqIv",
        "outputId": "670ed0ea-6c4d-4b86-ebdd-47ec3933a40f"
      },
      "source": [
        "pd_equity=pd.read_csv(csv_path,header=True, inferSchema=True)\n",
        "pd_equity.groupBy('INSTRUMENT_IDENTIFIER').count()"
      ],
      "execution_count": null,
      "outputs": [
        {
          "output_type": "error",
          "ename": "TypeError",
          "evalue": "ignored",
          "traceback": [
            "\u001b[0;31m---------------------------------------------------------------------------\u001b[0m",
            "\u001b[0;31mTypeError\u001b[0m                                 Traceback (most recent call last)",
            "\u001b[0;32m<ipython-input-10-1eea53b4c5b4>\u001b[0m in \u001b[0;36m<module>\u001b[0;34m()\u001b[0m\n\u001b[0;32m----> 1\u001b[0;31m \u001b[0mpd_equity\u001b[0m\u001b[0;34m=\u001b[0m\u001b[0mpd\u001b[0m\u001b[0;34m.\u001b[0m\u001b[0mread_csv\u001b[0m\u001b[0;34m(\u001b[0m\u001b[0mcsv_path\u001b[0m\u001b[0;34m,\u001b[0m\u001b[0mheader\u001b[0m\u001b[0;34m=\u001b[0m\u001b[0;32mTrue\u001b[0m\u001b[0;34m,\u001b[0m \u001b[0minferSchema\u001b[0m\u001b[0;34m=\u001b[0m\u001b[0;32mTrue\u001b[0m\u001b[0;34m)\u001b[0m\u001b[0;34m\u001b[0m\u001b[0;34m\u001b[0m\u001b[0m\n\u001b[0m\u001b[1;32m      2\u001b[0m \u001b[0mpd_equity\u001b[0m\u001b[0;34m.\u001b[0m\u001b[0mgroupBy\u001b[0m\u001b[0;34m(\u001b[0m\u001b[0;34m'INSTRUMENT_IDENTIFIER'\u001b[0m\u001b[0;34m)\u001b[0m\u001b[0;34m.\u001b[0m\u001b[0mcount\u001b[0m\u001b[0;34m(\u001b[0m\u001b[0;34m)\u001b[0m\u001b[0;34m\u001b[0m\u001b[0;34m\u001b[0m\u001b[0m\n",
            "\u001b[0;31mTypeError\u001b[0m: read_csv() got an unexpected keyword argument 'inferSchema'"
          ]
        }
      ]
    },
    {
      "cell_type": "code",
      "metadata": {
        "colab": {
          "base_uri": "https://localhost:8080/"
        },
        "id": "0iTBYmvxzFzV",
        "outputId": "ea17becc-6256-4eea-b192-071e059c712f"
      },
      "source": [
        "import pandas as pd\n",
        "import numpy as np\n",
        "import statsmodels.api as sm \n"
      ],
      "execution_count": null,
      "outputs": [
        {
          "output_type": "stream",
          "text": [
            "/usr/local/lib/python3.7/dist-packages/statsmodels/tools/_testing.py:19: FutureWarning: pandas.util.testing is deprecated. Use the functions in the public API at pandas.testing instead.\n",
            "  import pandas.util.testing as tm\n"
          ],
          "name": "stderr"
        }
      ]
    },
    {
      "cell_type": "code",
      "metadata": {
        "colab": {
          "base_uri": "https://localhost:8080/",
          "height": 1000
        },
        "id": "5gGHbrM_srSH",
        "outputId": "1ddba61e-033e-4c80-a863-ce039d9601b4"
      },
      "source": [
        "df_ff=pd.read_csv(\"/content/F-F_Research_Data_Factors_daily 2.CSV\")\n",
        "df_eq=pd.read_csv(\"/content/allequities.csv\")\n",
        "# df_ff['Date']\n",
        "df_ff['PRICE_DATE_YYYYMMDD']=pd.to_datetime(df_ff['Date'], format='%Y%m%d')\n",
        "df_eq['PRICE_DATE_YYYYMMDD']=pd.to_datetime(df_ff['PRICE_DATE_YYYYMMDD'], format='%Y%m%d')\n",
        "columns=['StockName','SMB','HML','Rf','R2','Adjusted R2','Multiple R','F-statistic']\n",
        "df_ff_summary=pd.DataFrame(columns=columns)     \n",
        "for stock in df_eq['INSTRUMENT_IDENTIFIER'].unique()[0:10]:\n",
        "  df_stock=df_eq[df_eq['INSTRUMENT_IDENTIFIER']==stock][['Close','PRICE_DATE_YYYYMMDD']]\n",
        "  df_stock=pd.merge(df_stock,df_ff,on=\"PRICE_DATE_YYYYMMDD\")\n",
        "  df_stock['Daily Returns']=df_stock['Close'].pct_change()\n",
        "  df_stock['Excess Daily Returns']=df_stock['Daily Returns']#-df_stock['RF']\n",
        "  df_stock.dropna(inplace=True)\n",
        "  if df_stock['Excess Daily Returns'].size>0:\n",
        "    y = df_stock['Excess Daily Returns']\n",
        "    X = df_stock[['Mkt-RF','SMB','HML']]\n",
        "    X_sm = sm.add_constant(X)\n",
        "    model = sm.OLS(y,X_sm)\n",
        "    results = model.fit()    \n",
        "    dict = {'StockName':stock,\"SMB\":results.params['SMB'],\"HML\":results.params['HML'],\"Rf\":results.params['Mkt-RF'],\"R2\":results.rsquared,'F-statistic':results.f_pvalue,\"Adjusted R2\":results.rsquared_adj,\"Multiple R\":np.sqrt(results.rsquared)}\n",
        "    df_ff_summary=df_ff_summary.append(dict,ignore_index=True)    \n",
        "plot_groupedbar(df_ff_summary.StockName,[df_ff_summary['SMB'],df_ff_summary['HML'],df_ff_summary['Rf']])   \n",
        "plot_groupedbar(df_ff_summary.StockName,[df_ff_summary['Multiple R'],df_ff_summary['R2'],df_ff_summary['Adjusted R2']]) \n",
        "df_ff_summary"
      ],
      "execution_count": null,
      "outputs": [
        {
          "output_type": "display_data",
          "data": {
            "image/png": "[encoded data removed]",
            "text/plain": [
              "<Figure size 1080x432 with 1 Axes>"
            ]
          },
          "metadata": {
            "tags": [],
            "needs_background": "light"
          }
        },
        {
          "output_type": "display_data",
          "data": {
            "image/png": "[encoded data removed]",
            "text/plain": [
              "<Figure size 1080x432 with 1 Axes>"
            ]
          },
          "metadata": {
            "tags": [],
            "needs_background": "light"
          }
        },
        {
          "output_type": "execute_result",
          "data": {
            "text/html": [
              "<div>\n",
              "<style scoped>\n",
              "    .dataframe tbody tr th:only-of-type {\n",
              "        vertical-align: middle;\n",
              "    }\n",
              "\n",
              "    .dataframe tbody tr th {\n",
              "        vertical-align: top;\n",
              "    }\n",
              "\n",
              "    .dataframe thead th {\n",
              "        text-align: right;\n",
              "    }\n",
              "</style>\n",
              "<table border=\"1\" class=\"dataframe\">\n",
              "  <thead>\n",
              "    <tr style=\"text-align: right;\">\n",
              "      <th></th>\n",
              "      <th>StockName</th>\n",
              "      <th>SMB</th>\n",
              "      <th>HML</th>\n",
              "      <th>Rf</th>\n",
              "      <th>R2</th>\n",
              "      <th>Adjusted R2</th>\n",
              "      <th>Multiple R</th>\n",
              "      <th>F-statistic</th>\n",
              "    </tr>\n",
              "  </thead>\n",
              "  <tbody>\n",
              "    <tr>\n",
              "      <th>0</th>\n",
              "      <td>Apple Inc</td>\n",
              "      <td>0.000210</td>\n",
              "      <td>0.000338</td>\n",
              "      <td>-0.000011</td>\n",
              "      <td>0.000306</td>\n",
              "      <td>-0.000300</td>\n",
              "      <td>0.017493</td>\n",
              "      <td>0.678705</td>\n",
              "    </tr>\n",
              "    <tr>\n",
              "      <th>1</th>\n",
              "      <td>Addidas</td>\n",
              "      <td>0.001272</td>\n",
              "      <td>-0.002495</td>\n",
              "      <td>0.000644</td>\n",
              "      <td>0.000719</td>\n",
              "      <td>0.000113</td>\n",
              "      <td>0.026813</td>\n",
              "      <td>0.312940</td>\n",
              "    </tr>\n",
              "    <tr>\n",
              "      <th>2</th>\n",
              "      <td>Facebook Inc</td>\n",
              "      <td>0.000991</td>\n",
              "      <td>-0.001883</td>\n",
              "      <td>-0.000383</td>\n",
              "      <td>0.001171</td>\n",
              "      <td>0.000566</td>\n",
              "      <td>0.034226</td>\n",
              "      <td>0.121556</td>\n",
              "    </tr>\n",
              "    <tr>\n",
              "      <th>3</th>\n",
              "      <td>Netflix Inc</td>\n",
              "      <td>-0.000364</td>\n",
              "      <td>0.000656</td>\n",
              "      <td>0.000390</td>\n",
              "      <td>0.000316</td>\n",
              "      <td>-0.000290</td>\n",
              "      <td>0.017775</td>\n",
              "      <td>0.667426</td>\n",
              "    </tr>\n",
              "    <tr>\n",
              "      <th>4</th>\n",
              "      <td>JPMorgan Chase &amp; Co</td>\n",
              "      <td>0.000031</td>\n",
              "      <td>0.000990</td>\n",
              "      <td>-0.000001</td>\n",
              "      <td>0.001298</td>\n",
              "      <td>0.000692</td>\n",
              "      <td>0.036022</td>\n",
              "      <td>0.092492</td>\n",
              "    </tr>\n",
              "    <tr>\n",
              "      <th>5</th>\n",
              "      <td>Amazon.com Inc</td>\n",
              "      <td>0.002041</td>\n",
              "      <td>-0.000219</td>\n",
              "      <td>-0.000499</td>\n",
              "      <td>0.007173</td>\n",
              "      <td>-0.006811</td>\n",
              "      <td>0.084692</td>\n",
              "      <td>0.673779</td>\n",
              "    </tr>\n",
              "  </tbody>\n",
              "</table>\n",
              "</div>"
            ],
            "text/plain": [
              "             StockName       SMB  ...  Multiple R  F-statistic\n",
              "0            Apple Inc  0.000210  ...    0.017493     0.678705\n",
              "1              Addidas  0.001272  ...    0.026813     0.312940\n",
              "2         Facebook Inc  0.000991  ...    0.034226     0.121556\n",
              "3          Netflix Inc -0.000364  ...    0.017775     0.667426\n",
              "4  JPMorgan Chase & Co  0.000031  ...    0.036022     0.092492\n",
              "5       Amazon.com Inc  0.002041  ...    0.084692     0.673779\n",
              "\n",
              "[6 rows x 8 columns]"
            ]
          },
          "metadata": {
            "tags": []
          },
          "execution_count": 11
        }
      ]
    },
    {
      "cell_type": "code",
      "metadata": {
        "id": "ct0GoQD4CbI5"
      },
      "source": [
        "def plot_groupedbar(labels,columns):\n",
        "  fig, ax = plt.subplots(figsize=(15,6))\n",
        "  plt.grid=True\n",
        "  x = np.arange(len(labels))  # the label locations\n",
        "  width = 1.5/(labels.size)\n",
        "  i=1\n",
        "  for col in columns:\n",
        "      ax.bar(x + width*i, col, width, label=col)    \n",
        "      i=i+1\n",
        "  \n",
        "\n",
        "  # Add some text for labels, title and custom x-axis tick labels, etc.\n",
        "  ax.set_ylabel('Scores')\n",
        "  ax.set_title('Fama French Model Params for each Stock')\n",
        "  ax.set_xticks(x)\n",
        "  ax.grid(linestyle='-', linewidth='0.5', color='red')\n",
        "  ax.set_xticklabels(labels)\n",
        "  # ax.legend()\n",
        "\n",
        "  fig.tight_layout()\n",
        "\n",
        "  plt.show()\n"
      ],
      "execution_count": null,
      "outputs": []
    }
  ]
}