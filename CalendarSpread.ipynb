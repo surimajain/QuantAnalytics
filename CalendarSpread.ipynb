{
  "nbformat": 4,
  "nbformat_minor": 0,
  "metadata": {
    "colab": {
      "name": "CalendarSpread.ipynb",
      "provenance": [],
      "authorship_tag": "ABX9TyNJ4QVSG50QK2gcx7bcNKYD",
      "include_colab_link": true
    },
    "kernelspec": {
      "name": "python3",
      "display_name": "Python 3"
    }
  },
  "cells": [
    {
      "cell_type": "markdown",
      "metadata": {
        "id": "view-in-github",
        "colab_type": "text"
      },
      "source": [
        "<a href=\"https://colab.research.google.com/github/surimajain/QuantAnalytics/blob/main/CalendarSpread.ipynb\" target=\"_parent\"><img src=\"https://colab.research.google.com/assets/colab-badge.svg\" alt=\"Open In Colab\"/></a>"
      ]
    },
    {
      "cell_type": "code",
      "metadata": {
        "id": "TizFE2jR7CSF",
        "colab": {
          "base_uri": "https://localhost:8080/"
        },
        "outputId": "64f5c1fc-34e1-493c-896d-0e58b0c033dd"
      },
      "source": [
        "import pandas as pd\r\n",
        "from tabulate import tabulate \r\n",
        "\r\n",
        "def _convert_str_to_int(s):\r\n",
        "    return float(s.replace(',', '')) \r\n",
        "\r\n",
        "df=pd.read_csv(\"/content/sample_data/CalendarSpread.csv\")\r\n",
        "# df=df.set_index(['Delta','Pref_iss_nme'])\r\n",
        "df['Variance']=pow(df['Price'],2)\r\n",
        "df.TenorDays=df.TenorDays.apply(lambda s:_convert_str_to_int(s))\r\n",
        "df['Variance']=(pow(df['Price'],2)*df.TenorDays)/10000\r\n",
        "df=df.set_index('Delta')\r\n",
        "df[\"Return\"] = df.groupby(\"Delta\")[\"Variance\"].pct_change(1)<1\r\n",
        "df=df.loc[20]\r\n",
        "# df.style.applymap(color_negative_red) \r\n",
        "print(tabulate(df, headers = 'keys', tablefmt = 'fancy_grid')) "
      ],
      "execution_count": 4,
      "outputs": [
        {
          "output_type": "stream",
          "text": [
            "╒═════════╤═════════╤═══════════════════╤═════════╤═════════════╤════════════╤══════════╕\n",
            "│   Delta │ Tenor   │ Pref_iss_nme      │   Price │   TenorDays │   Variance │ Return   │\n",
            "╞═════════╪═════════╪═══════════════════╪═════════╪═════════════╪════════════╪══════════╡\n",
            "│      20 │ 1W      │ EQOPTION_1W_0.2   │   33.12 │           8 │   0.877548 │ False    │\n",
            "├─────────┼─────────┼───────────────────┼─────────┼─────────────┼────────────┼──────────┤\n",
            "│      20 │ 1M      │ EQOPTION_1M_0.2   │   18.89 │          43 │   1.53438  │ True     │\n",
            "├─────────┼─────────┼───────────────────┼─────────┼─────────────┼────────────┼──────────┤\n",
            "│      20 │ 2M      │ EQOPTION_2M_0.2   │   16.45 │          71 │   1.92128  │ True     │\n",
            "├─────────┼─────────┼───────────────────┼─────────┼─────────────┼────────────┼──────────┤\n",
            "│      20 │ 3M      │ EQOPTION_3M_0.2   │   15.59 │          99 │   2.40618  │ True     │\n",
            "├─────────┼─────────┼───────────────────┼─────────┼─────────────┼────────────┼──────────┤\n",
            "│      20 │ 6M      │ EQOPTION_6M_0.2   │   14.77 │         162 │   3.53408  │ True     │\n",
            "├─────────┼─────────┼───────────────────┼─────────┼─────────────┼────────────┼──────────┤\n",
            "│      20 │ 9M      │ EQOPTION_9M_0.2   │   14.57 │         253 │   5.37081  │ True     │\n",
            "├─────────┼─────────┼───────────────────┼─────────┼─────────────┼────────────┼──────────┤\n",
            "│      20 │ 11M     │ EQOPTION_11M_0.2  │   14.52 │         344 │   7.25257  │ True     │\n",
            "├─────────┼─────────┼───────────────────┼─────────┼─────────────┼────────────┼──────────┤\n",
            "│      20 │ 1Y      │ EQOPTION_1Y_0.2   │   14.44 │         435 │   9.07034  │ True     │\n",
            "├─────────┼─────────┼───────────────────┼─────────┼─────────────┼────────────┼──────────┤\n",
            "│      20 │ 1.5Y    │ EQOPTION_1.5Y_0.2 │   14.76 │         526 │  11.4593   │ True     │\n",
            "├─────────┼─────────┼───────────────────┼─────────┼─────────────┼────────────┼──────────┤\n",
            "│      20 │ 2Y      │ EQOPTION_2Y_0.2   │   15.05 │         708 │  16.0364   │ True     │\n",
            "├─────────┼─────────┼───────────────────┼─────────┼─────────────┼────────────┼──────────┤\n",
            "│      20 │ 3Y      │ EQOPTION_3Y_0.2   │   15.39 │        1072 │  25.3905   │ True     │\n",
            "├─────────┼─────────┼───────────────────┼─────────┼─────────────┼────────────┼──────────┤\n",
            "│      20 │ 4Y      │ EQOPTION_4Y_0.2   │   25    │        1443 │  90.1875   │ False    │\n",
            "├─────────┼─────────┼───────────────────┼─────────┼─────────────┼────────────┼──────────┤\n",
            "│      20 │ 5Y      │ EQOPTION_5Y_0.2   │   16.52 │        1807 │  49.3149   │ True     │\n",
            "├─────────┼─────────┼───────────────────┼─────────┼─────────────┼────────────┼──────────┤\n",
            "│      20 │ 6Y      │ EQOPTION_6Y_0.2   │   16.63 │        2171 │  60.0405   │ True     │\n",
            "├─────────┼─────────┼───────────────────┼─────────┼─────────────┼────────────┼──────────┤\n",
            "│      20 │ 7Y      │ EQOPTION_7Y_0.2   │   16.58 │        2535 │  69.6862   │ True     │\n",
            "├─────────┼─────────┼───────────────────┼─────────┼─────────────┼────────────┼──────────┤\n",
            "│      20 │ 8Y      │ EQOPTION_8Y_0.2   │   16.59 │        2899 │  79.7886   │ True     │\n",
            "├─────────┼─────────┼───────────────────┼─────────┼─────────────┼────────────┼──────────┤\n",
            "│      20 │ 9Y      │ EQOPTION_9Y_0.2   │   16.59 │        3270 │  89.9996   │ True     │\n",
            "╘═════════╧═════════╧═══════════════════╧═════════╧═════════════╧════════════╧══════════╛\n"
          ],
          "name": "stdout"
        }
      ]
    },
    {
      "cell_type": "code",
      "metadata": {
        "colab": {
          "base_uri": "https://localhost:8080/"
        },
        "id": "NtYV1xTE_tJp",
        "outputId": "cf65a04a-efb9-4379-a987-7f7f072f22c2"
      },
      "source": [
        "!pwd"
      ],
      "execution_count": 2,
      "outputs": [
        {
          "output_type": "stream",
          "text": [
            "/content\n"
          ],
          "name": "stdout"
        }
      ]
    }
  ]
}