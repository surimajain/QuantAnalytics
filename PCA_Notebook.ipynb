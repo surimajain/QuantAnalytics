{
  "nbformat": 4,
  "nbformat_minor": 0,
  "metadata": {
    "kernelspec": {
      "display_name": "Python 3",
      "language": "python",
      "name": "python3"
    },
    "language_info": {
      "codemirror_mode": {
        "name": "ipython",
        "version": 3
      },
      "file_extension": ".py",
      "mimetype": "text/x-python",
      "name": "python",
      "nbconvert_exporter": "python",
      "pygments_lexer": "ipython3",
      "version": "3.8.5"
    },
    "colab": {
      "name": "PCA Notebook.ipynb",
      "provenance": [],
      "collapsed_sections": [],
      "include_colab_link": true
    }
  },
  "cells": [
    {
      "cell_type": "markdown",
      "metadata": {
        "id": "view-in-github",
        "colab_type": "text"
      },
      "source": [
        "<a href=\"https://colab.research.google.com/github/surimajain/QuantAnalytics/blob/main/PCA_Notebook.ipynb\" target=\"_parent\"><img src=\"https://colab.research.google.com/assets/colab-badge.svg\" alt=\"Open In Colab\"/></a>"
      ]
    },
    {
      "cell_type": "markdown",
      "metadata": {
        "id": "G8Sv-HPQz1OR"
      },
      "source": [
        "# Principal Component Analysis\n"
      ]
    },
    {
      "cell_type": "markdown",
      "metadata": {
        "id": "zq1q01Poz1Pj"
      },
      "source": [
        "# Need for PCA\n",
        "\n",
        "PCA is required to reduce the curse of dimensions in data and reduce the overfitiing of the data in the model. High dimension data is extremely complex process due to inconsistency in the features which increases the computation time and make the processing of data and EDA more convoluted.\n",
        "\n",
        "![download.png](attachment:download.png)"
      ]
    },
    {
      "cell_type": "markdown",
      "metadata": {
        "id": "VO6rAiojz1Pz"
      },
      "source": [
        "# What is PCA ??\n",
        "\n",
        "Principal Component Analysis is a dimensionality reduction technique that enables you to identify corelations and patterns in a data set so that it can be transformed into a data set of significantly lower dimension without loss of any important information.\n",
        "\n",
        "Steps in PCA:\n",
        "\n",
        "- 1) Standardization of the Data \n",
        "- 2) Computing the Covariance Matrix\n",
        "- 3) Calculating the Eigenvectors and Eigenvalues\n",
        "- 4) Computing the Principal Components\n",
        "- 5) Reducing the dimensions of the data "
      ]
    },
    {
      "cell_type": "markdown",
      "metadata": {
        "id": "p1kT_ULxz1P9"
      },
      "source": [
        "# Eigenvectors and Eigenvalues\n",
        "\n",
        "- Eigenvectors and Eigenvalues are the mathematical constructs that must be computed from the covariance matrix in order to determine the principal components of the dataset.\n",
        "\n",
        "- Eigenvectors are those vectors when a linear transformation is performed on them then their direction does not change.\n",
        "\n",
        "- Eigenvalues simply denote the scalar of the respective eigenvectors\n",
        "\n",
        "- Principal Components are the new set of variables that are obtained from the initial set of variables. They compress and possess most of the useful information that was scattered among the initial variables.\n",
        "\n"
      ]
    },
    {
      "cell_type": "markdown",
      "metadata": {
        "id": "1Dnz4TbNz1QJ"
      },
      "source": [
        "# Computing the Principal Components\n",
        "\n",
        "Once we have computed the eigen vectors and eigen values , we have to order them in a descending order where the eigen vector with the highest eigen value is the most significant and thus forms the first principal component.\n",
        "\n",
        "- PC1 is the most significant and stores the maximum value possible\n",
        "- PC2 is the second most significant and stores the remaining maximum info and so on."
      ]
    },
    {
      "cell_type": "code",
      "metadata": {
        "id": "ivn9i6lmz1QV"
      },
      "source": [
        "import pandas as pd\n",
        "import numpy as np"
      ],
      "execution_count": null,
      "outputs": []
    },
    {
      "cell_type": "code",
      "metadata": {
        "colab": {
          "base_uri": "https://localhost:8080/",
          "height": 396
        },
        "id": "3T4i5cw8z1Qh",
        "outputId": "a04ec536-0de0-496f-d45b-6886765d1f7d"
      },
      "source": [
        "df = pd.read_csv(\"/content/sample_data/PCA.csv\")\r\n",
        "df"
      ],
      "execution_count": null,
      "outputs": [
        {
          "output_type": "error",
          "ename": "FileNotFoundError",
          "evalue": "ignored",
          "traceback": [
            "\u001b[0;31m---------------------------------------------------------------------------\u001b[0m",
            "\u001b[0;31mFileNotFoundError\u001b[0m                         Traceback (most recent call last)",
            "\u001b[0;32m<ipython-input-4-dc3bbf0f4bfe>\u001b[0m in \u001b[0;36m<module>\u001b[0;34m()\u001b[0m\n\u001b[0;32m----> 1\u001b[0;31m \u001b[0mdf\u001b[0m \u001b[0;34m=\u001b[0m \u001b[0mpd\u001b[0m\u001b[0;34m.\u001b[0m\u001b[0mread_csv\u001b[0m\u001b[0;34m(\u001b[0m\u001b[0;34m\"/content/sample_data/PCA.csv\"\u001b[0m\u001b[0;34m)\u001b[0m\u001b[0;34m\u001b[0m\u001b[0;34m\u001b[0m\u001b[0m\n\u001b[0m\u001b[1;32m      2\u001b[0m \u001b[0mdf\u001b[0m\u001b[0;34m\u001b[0m\u001b[0;34m\u001b[0m\u001b[0m\n",
            "\u001b[0;32m/usr/local/lib/python3.7/dist-packages/pandas/io/parsers.py\u001b[0m in \u001b[0;36mread_csv\u001b[0;34m(filepath_or_buffer, sep, delimiter, header, names, index_col, usecols, squeeze, prefix, mangle_dupe_cols, dtype, engine, converters, true_values, false_values, skipinitialspace, skiprows, skipfooter, nrows, na_values, keep_default_na, na_filter, verbose, skip_blank_lines, parse_dates, infer_datetime_format, keep_date_col, date_parser, dayfirst, cache_dates, iterator, chunksize, compression, thousands, decimal, lineterminator, quotechar, quoting, doublequote, escapechar, comment, encoding, dialect, error_bad_lines, warn_bad_lines, delim_whitespace, low_memory, memory_map, float_precision)\u001b[0m\n\u001b[1;32m    686\u001b[0m     )\n\u001b[1;32m    687\u001b[0m \u001b[0;34m\u001b[0m\u001b[0m\n\u001b[0;32m--> 688\u001b[0;31m     \u001b[0;32mreturn\u001b[0m \u001b[0m_read\u001b[0m\u001b[0;34m(\u001b[0m\u001b[0mfilepath_or_buffer\u001b[0m\u001b[0;34m,\u001b[0m \u001b[0mkwds\u001b[0m\u001b[0;34m)\u001b[0m\u001b[0;34m\u001b[0m\u001b[0;34m\u001b[0m\u001b[0m\n\u001b[0m\u001b[1;32m    689\u001b[0m \u001b[0;34m\u001b[0m\u001b[0m\n\u001b[1;32m    690\u001b[0m \u001b[0;34m\u001b[0m\u001b[0m\n",
            "\u001b[0;32m/usr/local/lib/python3.7/dist-packages/pandas/io/parsers.py\u001b[0m in \u001b[0;36m_read\u001b[0;34m(filepath_or_buffer, kwds)\u001b[0m\n\u001b[1;32m    452\u001b[0m \u001b[0;34m\u001b[0m\u001b[0m\n\u001b[1;32m    453\u001b[0m     \u001b[0;31m# Create the parser.\u001b[0m\u001b[0;34m\u001b[0m\u001b[0;34m\u001b[0m\u001b[0;34m\u001b[0m\u001b[0m\n\u001b[0;32m--> 454\u001b[0;31m     \u001b[0mparser\u001b[0m \u001b[0;34m=\u001b[0m \u001b[0mTextFileReader\u001b[0m\u001b[0;34m(\u001b[0m\u001b[0mfp_or_buf\u001b[0m\u001b[0;34m,\u001b[0m \u001b[0;34m**\u001b[0m\u001b[0mkwds\u001b[0m\u001b[0;34m)\u001b[0m\u001b[0;34m\u001b[0m\u001b[0;34m\u001b[0m\u001b[0m\n\u001b[0m\u001b[1;32m    455\u001b[0m \u001b[0;34m\u001b[0m\u001b[0m\n\u001b[1;32m    456\u001b[0m     \u001b[0;32mif\u001b[0m \u001b[0mchunksize\u001b[0m \u001b[0;32mor\u001b[0m \u001b[0miterator\u001b[0m\u001b[0;34m:\u001b[0m\u001b[0;34m\u001b[0m\u001b[0;34m\u001b[0m\u001b[0m\n",
            "\u001b[0;32m/usr/local/lib/python3.7/dist-packages/pandas/io/parsers.py\u001b[0m in \u001b[0;36m__init__\u001b[0;34m(self, f, engine, **kwds)\u001b[0m\n\u001b[1;32m    946\u001b[0m             \u001b[0mself\u001b[0m\u001b[0;34m.\u001b[0m\u001b[0moptions\u001b[0m\u001b[0;34m[\u001b[0m\u001b[0;34m\"has_index_names\"\u001b[0m\u001b[0;34m]\u001b[0m \u001b[0;34m=\u001b[0m \u001b[0mkwds\u001b[0m\u001b[0;34m[\u001b[0m\u001b[0;34m\"has_index_names\"\u001b[0m\u001b[0;34m]\u001b[0m\u001b[0;34m\u001b[0m\u001b[0;34m\u001b[0m\u001b[0m\n\u001b[1;32m    947\u001b[0m \u001b[0;34m\u001b[0m\u001b[0m\n\u001b[0;32m--> 948\u001b[0;31m         \u001b[0mself\u001b[0m\u001b[0;34m.\u001b[0m\u001b[0m_make_engine\u001b[0m\u001b[0;34m(\u001b[0m\u001b[0mself\u001b[0m\u001b[0;34m.\u001b[0m\u001b[0mengine\u001b[0m\u001b[0;34m)\u001b[0m\u001b[0;34m\u001b[0m\u001b[0;34m\u001b[0m\u001b[0m\n\u001b[0m\u001b[1;32m    949\u001b[0m \u001b[0;34m\u001b[0m\u001b[0m\n\u001b[1;32m    950\u001b[0m     \u001b[0;32mdef\u001b[0m \u001b[0mclose\u001b[0m\u001b[0;34m(\u001b[0m\u001b[0mself\u001b[0m\u001b[0;34m)\u001b[0m\u001b[0;34m:\u001b[0m\u001b[0;34m\u001b[0m\u001b[0;34m\u001b[0m\u001b[0m\n",
            "\u001b[0;32m/usr/local/lib/python3.7/dist-packages/pandas/io/parsers.py\u001b[0m in \u001b[0;36m_make_engine\u001b[0;34m(self, engine)\u001b[0m\n\u001b[1;32m   1178\u001b[0m     \u001b[0;32mdef\u001b[0m \u001b[0m_make_engine\u001b[0m\u001b[0;34m(\u001b[0m\u001b[0mself\u001b[0m\u001b[0;34m,\u001b[0m \u001b[0mengine\u001b[0m\u001b[0;34m=\u001b[0m\u001b[0;34m\"c\"\u001b[0m\u001b[0;34m)\u001b[0m\u001b[0;34m:\u001b[0m\u001b[0;34m\u001b[0m\u001b[0;34m\u001b[0m\u001b[0m\n\u001b[1;32m   1179\u001b[0m         \u001b[0;32mif\u001b[0m \u001b[0mengine\u001b[0m \u001b[0;34m==\u001b[0m \u001b[0;34m\"c\"\u001b[0m\u001b[0;34m:\u001b[0m\u001b[0;34m\u001b[0m\u001b[0;34m\u001b[0m\u001b[0m\n\u001b[0;32m-> 1180\u001b[0;31m             \u001b[0mself\u001b[0m\u001b[0;34m.\u001b[0m\u001b[0m_engine\u001b[0m \u001b[0;34m=\u001b[0m \u001b[0mCParserWrapper\u001b[0m\u001b[0;34m(\u001b[0m\u001b[0mself\u001b[0m\u001b[0;34m.\u001b[0m\u001b[0mf\u001b[0m\u001b[0;34m,\u001b[0m \u001b[0;34m**\u001b[0m\u001b[0mself\u001b[0m\u001b[0;34m.\u001b[0m\u001b[0moptions\u001b[0m\u001b[0;34m)\u001b[0m\u001b[0;34m\u001b[0m\u001b[0;34m\u001b[0m\u001b[0m\n\u001b[0m\u001b[1;32m   1181\u001b[0m         \u001b[0;32melse\u001b[0m\u001b[0;34m:\u001b[0m\u001b[0;34m\u001b[0m\u001b[0;34m\u001b[0m\u001b[0m\n\u001b[1;32m   1182\u001b[0m             \u001b[0;32mif\u001b[0m \u001b[0mengine\u001b[0m \u001b[0;34m==\u001b[0m \u001b[0;34m\"python\"\u001b[0m\u001b[0;34m:\u001b[0m\u001b[0;34m\u001b[0m\u001b[0;34m\u001b[0m\u001b[0m\n",
            "\u001b[0;32m/usr/local/lib/python3.7/dist-packages/pandas/io/parsers.py\u001b[0m in \u001b[0;36m__init__\u001b[0;34m(self, src, **kwds)\u001b[0m\n\u001b[1;32m   2008\u001b[0m         \u001b[0mkwds\u001b[0m\u001b[0;34m[\u001b[0m\u001b[0;34m\"usecols\"\u001b[0m\u001b[0;34m]\u001b[0m \u001b[0;34m=\u001b[0m \u001b[0mself\u001b[0m\u001b[0;34m.\u001b[0m\u001b[0musecols\u001b[0m\u001b[0;34m\u001b[0m\u001b[0;34m\u001b[0m\u001b[0m\n\u001b[1;32m   2009\u001b[0m \u001b[0;34m\u001b[0m\u001b[0m\n\u001b[0;32m-> 2010\u001b[0;31m         \u001b[0mself\u001b[0m\u001b[0;34m.\u001b[0m\u001b[0m_reader\u001b[0m \u001b[0;34m=\u001b[0m \u001b[0mparsers\u001b[0m\u001b[0;34m.\u001b[0m\u001b[0mTextReader\u001b[0m\u001b[0;34m(\u001b[0m\u001b[0msrc\u001b[0m\u001b[0;34m,\u001b[0m \u001b[0;34m**\u001b[0m\u001b[0mkwds\u001b[0m\u001b[0;34m)\u001b[0m\u001b[0;34m\u001b[0m\u001b[0;34m\u001b[0m\u001b[0m\n\u001b[0m\u001b[1;32m   2011\u001b[0m         \u001b[0mself\u001b[0m\u001b[0;34m.\u001b[0m\u001b[0munnamed_cols\u001b[0m \u001b[0;34m=\u001b[0m \u001b[0mself\u001b[0m\u001b[0;34m.\u001b[0m\u001b[0m_reader\u001b[0m\u001b[0;34m.\u001b[0m\u001b[0munnamed_cols\u001b[0m\u001b[0;34m\u001b[0m\u001b[0;34m\u001b[0m\u001b[0m\n\u001b[1;32m   2012\u001b[0m \u001b[0;34m\u001b[0m\u001b[0m\n",
            "\u001b[0;32mpandas/_libs/parsers.pyx\u001b[0m in \u001b[0;36mpandas._libs.parsers.TextReader.__cinit__\u001b[0;34m()\u001b[0m\n",
            "\u001b[0;32mpandas/_libs/parsers.pyx\u001b[0m in \u001b[0;36mpandas._libs.parsers.TextReader._setup_parser_source\u001b[0;34m()\u001b[0m\n",
            "\u001b[0;31mFileNotFoundError\u001b[0m: [Errno 2] No such file or directory: '/content/sample_data/PCA.csv'"
          ]
        }
      ]
    },
    {
      "cell_type": "code",
      "metadata": {
        "id": "Hc_QZoAVz1RC"
      },
      "source": [
        "from sklearn.preprocessing import StandardScaler\n",
        "features = ['x' ,'y']\n",
        "# Separating out the features\n",
        "x = df.loc[:, features].values\n",
        "# Standardizing the features\n",
        "x = StandardScaler().fit_transform(x)"
      ],
      "execution_count": null,
      "outputs": []
    },
    {
      "cell_type": "code",
      "metadata": {
        "colab": {
          "base_uri": "https://localhost:8080/"
        },
        "id": "azJZ9Hgcz1RI",
        "outputId": "f1169004-8dae-43ca-93e9-9300699d7277"
      },
      "source": [
        "x"
      ],
      "execution_count": null,
      "outputs": [
        {
          "output_type": "execute_result",
          "data": {
            "text/plain": [
              "array([[ 0.92627881,  0.61016865],\n",
              "       [-1.7585873 , -1.506743  ],\n",
              "       [ 0.52354889,  1.23278973],\n",
              "       [ 0.12081898,  0.36112022],\n",
              "       [ 1.73173864,  1.35731394],\n",
              "       [ 0.6577922 ,  0.9837413 ],\n",
              "       [ 0.25506228, -0.38602507],\n",
              "       [-1.08737078, -1.00864614],\n",
              "       [-0.41615425, -0.38602507],\n",
              "       [-0.95312747, -1.25769457]])"
            ]
          },
          "metadata": {
            "tags": []
          },
          "execution_count": 8
        }
      ]
    },
    {
      "cell_type": "code",
      "metadata": {
        "id": "bOmYRXmez1RS"
      },
      "source": [
        "cov_matrix = df.cov()"
      ],
      "execution_count": null,
      "outputs": []
    },
    {
      "cell_type": "code",
      "metadata": {
        "colab": {
          "base_uri": "https://localhost:8080/",
          "height": 112
        },
        "id": "z1hFeatPz1Rn",
        "outputId": "cb0990ab-5db6-4317-d7a6-10b2b53474ea"
      },
      "source": [
        "cov_matrix"
      ],
      "execution_count": null,
      "outputs": [
        {
          "output_type": "execute_result",
          "data": {
            "text/html": [
              "<div>\n",
              "<style scoped>\n",
              "    .dataframe tbody tr th:only-of-type {\n",
              "        vertical-align: middle;\n",
              "    }\n",
              "\n",
              "    .dataframe tbody tr th {\n",
              "        vertical-align: top;\n",
              "    }\n",
              "\n",
              "    .dataframe thead th {\n",
              "        text-align: right;\n",
              "    }\n",
              "</style>\n",
              "<table border=\"1\" class=\"dataframe\">\n",
              "  <thead>\n",
              "    <tr style=\"text-align: right;\">\n",
              "      <th></th>\n",
              "      <th>x</th>\n",
              "      <th>y</th>\n",
              "    </tr>\n",
              "  </thead>\n",
              "  <tbody>\n",
              "    <tr>\n",
              "      <th>x</th>\n",
              "      <td>0.616556</td>\n",
              "      <td>0.615444</td>\n",
              "    </tr>\n",
              "    <tr>\n",
              "      <th>y</th>\n",
              "      <td>0.615444</td>\n",
              "      <td>0.716556</td>\n",
              "    </tr>\n",
              "  </tbody>\n",
              "</table>\n",
              "</div>"
            ],
            "text/plain": [
              "          x         y\n",
              "x  0.616556  0.615444\n",
              "y  0.615444  0.716556"
            ]
          },
          "metadata": {
            "tags": []
          },
          "execution_count": 10
        }
      ]
    },
    {
      "cell_type": "code",
      "metadata": {
        "colab": {
          "base_uri": "https://localhost:8080/"
        },
        "id": "SKZi2lT8z1Rt",
        "outputId": "45ae942f-df87-4d30-f190-c7cc2ad75cb7"
      },
      "source": [
        "print()"
      ],
      "execution_count": null,
      "outputs": [
        {
          "output_type": "stream",
          "text": [
            "\n"
          ],
          "name": "stdout"
        }
      ]
    },
    {
      "cell_type": "code",
      "metadata": {
        "colab": {
          "base_uri": "https://localhost:8080/",
          "height": 235
        },
        "id": "YubAlRHLz1R0",
        "outputId": "9a4d6881-1ec4-40d2-bcb3-b634dd2177a6"
      },
      "source": [
        "# Perform eigendecomposition\n",
        "eigenvalues, eigenvectors = np.linalg.eig(cov_matrix)\n",
        "# Put data into a DataFrame\n",
        "#df_eigval = pd({\"Eigenvalues\":eigenvalues}, index=range(1,21))\n",
        "print(eigenvalues)\n",
        "print(eigenvectors)"
      ],
      "execution_count": null,
      "outputs": [
        {
          "output_type": "error",
          "ename": "NameError",
          "evalue": "ignored",
          "traceback": [
            "\u001b[0;31m---------------------------------------------------------------------------\u001b[0m",
            "\u001b[0;31mNameError\u001b[0m                                 Traceback (most recent call last)",
            "\u001b[0;32m<ipython-input-2-915ee70c1f04>\u001b[0m in \u001b[0;36m<module>\u001b[0;34m()\u001b[0m\n\u001b[1;32m      1\u001b[0m \u001b[0;31m# Perform eigendecomposition\u001b[0m\u001b[0;34m\u001b[0m\u001b[0;34m\u001b[0m\u001b[0;34m\u001b[0m\u001b[0m\n\u001b[0;32m----> 2\u001b[0;31m \u001b[0meigenvalues\u001b[0m\u001b[0;34m,\u001b[0m \u001b[0meigenvectors\u001b[0m \u001b[0;34m=\u001b[0m \u001b[0mnp\u001b[0m\u001b[0;34m.\u001b[0m\u001b[0mlinalg\u001b[0m\u001b[0;34m.\u001b[0m\u001b[0meig\u001b[0m\u001b[0;34m(\u001b[0m\u001b[0mcov_matrix\u001b[0m\u001b[0;34m)\u001b[0m\u001b[0;34m\u001b[0m\u001b[0;34m\u001b[0m\u001b[0m\n\u001b[0m\u001b[1;32m      3\u001b[0m \u001b[0;31m# Put data into a DataFrame\u001b[0m\u001b[0;34m\u001b[0m\u001b[0;34m\u001b[0m\u001b[0;34m\u001b[0m\u001b[0m\n\u001b[1;32m      4\u001b[0m \u001b[0;31m#df_eigval = pd({\"Eigenvalues\":eigenvalues}, index=range(1,21))\u001b[0m\u001b[0;34m\u001b[0m\u001b[0;34m\u001b[0m\u001b[0;34m\u001b[0m\u001b[0m\n\u001b[1;32m      5\u001b[0m \u001b[0mprint\u001b[0m\u001b[0;34m(\u001b[0m\u001b[0meigenvalues\u001b[0m\u001b[0;34m)\u001b[0m\u001b[0;34m\u001b[0m\u001b[0;34m\u001b[0m\u001b[0m\n",
            "\u001b[0;31mNameError\u001b[0m: name 'np' is not defined"
          ]
        }
      ]
    },
    {
      "cell_type": "code",
      "metadata": {
        "colab": {
          "base_uri": "https://localhost:8080/"
        },
        "id": "7yNBWUQKz1R6",
        "outputId": "dec3d5c5-8ce2-4620-e1ec-7621382691da"
      },
      "source": [
        "principal_components = x.dot(eigenvectors)\n",
        "principal_components"
      ],
      "execution_count": null,
      "outputs": [
        {
          "output_type": "execute_result",
          "data": {
            "text/plain": [
              "array([[-0.26736331, -1.07648273],\n",
              "       [ 0.27149485,  2.29982484],\n",
              "       [ 0.45077339, -1.26122056],\n",
              "       [ 0.15597026, -0.34738785],\n",
              "       [-0.35305027, -2.1717678 ],\n",
              "       [ 0.18325727, -1.16912544],\n",
              "       [-0.44919247,  0.11089745],\n",
              "       [ 0.1156774 ,  1.47863484],\n",
              "       [ 0.0442716 ,  0.56589728],\n",
              "       [-0.15183872,  1.57072996]])"
            ]
          },
          "metadata": {
            "tags": []
          },
          "execution_count": 19
        }
      ]
    },
    {
      "cell_type": "code",
      "metadata": {
        "colab": {
          "base_uri": "https://localhost:8080/",
          "height": 235
        },
        "id": "GoT3yyGW0MpH",
        "outputId": "5ba1ee6b-ac54-488a-f497-d9ac7374736f"
      },
      "source": [
        "# eig_vals, eig_vecs = np.linalg.eig(cov_mat)\r\n",
        "eig_pairs = [(np.abs(eigenvalues[i]), eigenvectors[:,i]) for i in range(len(eigenvalues))]\r\n",
        "eig_pairs.sort()\r\n",
        "eig_pairs.reverse()\r\n",
        "pc1 = eig_pairs[0][1]\r\n",
        "pc1 = pd.DataFrame(pc1)\r\n",
        "pc1\r\n"
      ],
      "execution_count": null,
      "outputs": [
        {
          "output_type": "error",
          "ename": "NameError",
          "evalue": "ignored",
          "traceback": [
            "\u001b[0;31m---------------------------------------------------------------------------\u001b[0m",
            "\u001b[0;31mNameError\u001b[0m                                 Traceback (most recent call last)",
            "\u001b[0;32m<ipython-input-1-41ee282975e3>\u001b[0m in \u001b[0;36m<module>\u001b[0;34m()\u001b[0m\n\u001b[1;32m      1\u001b[0m \u001b[0;31m# eig_vals, eig_vecs = np.linalg.eig(cov_mat)\u001b[0m\u001b[0;34m\u001b[0m\u001b[0;34m\u001b[0m\u001b[0;34m\u001b[0m\u001b[0m\n\u001b[0;32m----> 2\u001b[0;31m \u001b[0meig_pairs\u001b[0m \u001b[0;34m=\u001b[0m \u001b[0;34m[\u001b[0m\u001b[0;34m(\u001b[0m\u001b[0mnp\u001b[0m\u001b[0;34m.\u001b[0m\u001b[0mabs\u001b[0m\u001b[0;34m(\u001b[0m\u001b[0meigenvalues\u001b[0m\u001b[0;34m[\u001b[0m\u001b[0mi\u001b[0m\u001b[0;34m]\u001b[0m\u001b[0;34m)\u001b[0m\u001b[0;34m,\u001b[0m \u001b[0meigenvectors\u001b[0m\u001b[0;34m[\u001b[0m\u001b[0;34m:\u001b[0m\u001b[0;34m,\u001b[0m\u001b[0mi\u001b[0m\u001b[0;34m]\u001b[0m\u001b[0;34m)\u001b[0m \u001b[0;32mfor\u001b[0m \u001b[0mi\u001b[0m \u001b[0;32min\u001b[0m \u001b[0mrange\u001b[0m\u001b[0;34m(\u001b[0m\u001b[0mlen\u001b[0m\u001b[0;34m(\u001b[0m\u001b[0meigenvalues\u001b[0m\u001b[0;34m)\u001b[0m\u001b[0;34m)\u001b[0m\u001b[0;34m]\u001b[0m\u001b[0;34m\u001b[0m\u001b[0;34m\u001b[0m\u001b[0m\n\u001b[0m\u001b[1;32m      3\u001b[0m \u001b[0meig_pairs\u001b[0m\u001b[0;34m.\u001b[0m\u001b[0msort\u001b[0m\u001b[0;34m(\u001b[0m\u001b[0;34m)\u001b[0m\u001b[0;34m\u001b[0m\u001b[0;34m\u001b[0m\u001b[0m\n\u001b[1;32m      4\u001b[0m \u001b[0meig_pairs\u001b[0m\u001b[0;34m.\u001b[0m\u001b[0mreverse\u001b[0m\u001b[0;34m(\u001b[0m\u001b[0;34m)\u001b[0m\u001b[0;34m\u001b[0m\u001b[0;34m\u001b[0m\u001b[0m\n\u001b[1;32m      5\u001b[0m \u001b[0mpc1\u001b[0m \u001b[0;34m=\u001b[0m \u001b[0meig_pairs\u001b[0m\u001b[0;34m[\u001b[0m\u001b[0;36m0\u001b[0m\u001b[0;34m]\u001b[0m\u001b[0;34m[\u001b[0m\u001b[0;36m1\u001b[0m\u001b[0;34m]\u001b[0m\u001b[0;34m\u001b[0m\u001b[0;34m\u001b[0m\u001b[0m\n",
            "\u001b[0;31mNameError\u001b[0m: name 'eigenvalues' is not defined"
          ]
        }
      ]
    },
    {
      "cell_type": "code",
      "metadata": {
        "id": "TU3NKF_Jz1SL"
      },
      "source": [
        "from sklearn.decomposition import PCA\n",
        "pca = PCA(n_components=2)\n",
        "principalComponents = pca.fit_transform(x)\n",
        "principalDf = pd.DataFrame(data = principalComponents\n",
        "             , columns = ['principal component 1', 'principal component 2'])"
      ],
      "execution_count": null,
      "outputs": []
    },
    {
      "cell_type": "code",
      "metadata": {
        "colab": {
          "base_uri": "https://localhost:8080/",
          "height": 363
        },
        "id": "6FWxdKPYz1SO",
        "outputId": "74633dac-03ce-4e06-9de6-f1f35cf8c660"
      },
      "source": [
        "principalDf"
      ],
      "execution_count": null,
      "outputs": [
        {
          "output_type": "execute_result",
          "data": {
            "text/html": [
              "<div>\n",
              "<style scoped>\n",
              "    .dataframe tbody tr th:only-of-type {\n",
              "        vertical-align: middle;\n",
              "    }\n",
              "\n",
              "    .dataframe tbody tr th {\n",
              "        vertical-align: top;\n",
              "    }\n",
              "\n",
              "    .dataframe thead th {\n",
              "        text-align: right;\n",
              "    }\n",
              "</style>\n",
              "<table border=\"1\" class=\"dataframe\">\n",
              "  <thead>\n",
              "    <tr style=\"text-align: right;\">\n",
              "      <th></th>\n",
              "      <th>principal component 1</th>\n",
              "      <th>principal component 2</th>\n",
              "    </tr>\n",
              "  </thead>\n",
              "  <tbody>\n",
              "    <tr>\n",
              "      <th>0</th>\n",
              "      <td>-1.086432</td>\n",
              "      <td>-0.223524</td>\n",
              "    </tr>\n",
              "    <tr>\n",
              "      <th>1</th>\n",
              "      <td>2.308937</td>\n",
              "      <td>0.178081</td>\n",
              "    </tr>\n",
              "    <tr>\n",
              "      <th>2</th>\n",
              "      <td>-1.241919</td>\n",
              "      <td>0.501509</td>\n",
              "    </tr>\n",
              "    <tr>\n",
              "      <th>3</th>\n",
              "      <td>-0.340782</td>\n",
              "      <td>0.169919</td>\n",
              "    </tr>\n",
              "    <tr>\n",
              "      <th>4</th>\n",
              "      <td>-2.184290</td>\n",
              "      <td>-0.264758</td>\n",
              "    </tr>\n",
              "    <tr>\n",
              "      <th>5</th>\n",
              "      <td>-1.160739</td>\n",
              "      <td>0.230481</td>\n",
              "    </tr>\n",
              "    <tr>\n",
              "      <th>6</th>\n",
              "      <td>0.092605</td>\n",
              "      <td>-0.453317</td>\n",
              "    </tr>\n",
              "    <tr>\n",
              "      <th>7</th>\n",
              "      <td>1.482108</td>\n",
              "      <td>0.055667</td>\n",
              "    </tr>\n",
              "    <tr>\n",
              "      <th>8</th>\n",
              "      <td>0.567226</td>\n",
              "      <td>0.021305</td>\n",
              "    </tr>\n",
              "    <tr>\n",
              "      <th>9</th>\n",
              "      <td>1.563287</td>\n",
              "      <td>-0.215361</td>\n",
              "    </tr>\n",
              "  </tbody>\n",
              "</table>\n",
              "</div>"
            ],
            "text/plain": [
              "   principal component 1  principal component 2\n",
              "0              -1.086432              -0.223524\n",
              "1               2.308937               0.178081\n",
              "2              -1.241919               0.501509\n",
              "3              -0.340782               0.169919\n",
              "4              -2.184290              -0.264758\n",
              "5              -1.160739               0.230481\n",
              "6               0.092605              -0.453317\n",
              "7               1.482108               0.055667\n",
              "8               0.567226               0.021305\n",
              "9               1.563287              -0.215361"
            ]
          },
          "metadata": {
            "tags": []
          },
          "execution_count": 16
        }
      ]
    },
    {
      "cell_type": "markdown",
      "metadata": {
        "id": "zP07wzz0-Ckt"
      },
      "source": [
        "#PCA of yield curve"
      ]
    },
    {
      "cell_type": "code",
      "metadata": {
        "colab": {
          "base_uri": "https://localhost:8080/",
          "height": 238
        },
        "id": "oq4H1rFaz1SZ",
        "outputId": "01200b39-f2c3-4bdc-f120-2e2d113af867"
      },
      "source": [
        "%matplotlib inline\r\n",
        "import matplotlib.pyplot as plt\r\n",
        "import pandas as pd\r\n",
        "import numpy as np# Import Bank of England spot curve data from excel\r\n",
        "df = pd.read_excel(\"/content/sample_data/GLC Nominal daily data current month.xlsx\", \r\n",
        "                   index_col=0, header=3,  sheet_name=\"4. spot curve\", skiprows=[4])\r\n",
        "# df=pd.read_csv(\"/content/sample_data/PCA.csv\")\r\n",
        "# Select all of the data up to 10 years\r\n",
        "df = df.iloc[:,0:10]\r\n",
        "df.head()"
      ],
      "execution_count": 73,
      "outputs": [
        {
          "output_type": "execute_result",
          "data": {
            "text/html": [
              "<div>\n",
              "<style scoped>\n",
              "    .dataframe tbody tr th:only-of-type {\n",
              "        vertical-align: middle;\n",
              "    }\n",
              "\n",
              "    .dataframe tbody tr th {\n",
              "        vertical-align: top;\n",
              "    }\n",
              "\n",
              "    .dataframe thead th {\n",
              "        text-align: right;\n",
              "    }\n",
              "</style>\n",
              "<table border=\"1\" class=\"dataframe\">\n",
              "  <thead>\n",
              "    <tr style=\"text-align: right;\">\n",
              "      <th></th>\n",
              "      <th>0.5</th>\n",
              "      <th>1.0</th>\n",
              "      <th>1.5</th>\n",
              "      <th>2.0</th>\n",
              "      <th>2.5</th>\n",
              "      <th>3.0</th>\n",
              "      <th>3.5</th>\n",
              "      <th>4.0</th>\n",
              "      <th>4.5</th>\n",
              "      <th>5.0</th>\n",
              "    </tr>\n",
              "    <tr>\n",
              "      <th>years:</th>\n",
              "      <th></th>\n",
              "      <th></th>\n",
              "      <th></th>\n",
              "      <th></th>\n",
              "      <th></th>\n",
              "      <th></th>\n",
              "      <th></th>\n",
              "      <th></th>\n",
              "      <th></th>\n",
              "      <th></th>\n",
              "    </tr>\n",
              "  </thead>\n",
              "  <tbody>\n",
              "    <tr>\n",
              "      <th>2021-02-01</th>\n",
              "      <td>-0.133517</td>\n",
              "      <td>-0.111626</td>\n",
              "      <td>-0.102026</td>\n",
              "      <td>-0.096101</td>\n",
              "      <td>-0.088689</td>\n",
              "      <td>-0.077630</td>\n",
              "      <td>-0.062228</td>\n",
              "      <td>-0.042472</td>\n",
              "      <td>-0.018699</td>\n",
              "      <td>0.008595</td>\n",
              "    </tr>\n",
              "    <tr>\n",
              "      <th>2021-02-02</th>\n",
              "      <td>-0.129386</td>\n",
              "      <td>-0.098325</td>\n",
              "      <td>-0.084978</td>\n",
              "      <td>-0.077243</td>\n",
              "      <td>-0.068728</td>\n",
              "      <td>-0.056853</td>\n",
              "      <td>-0.040760</td>\n",
              "      <td>-0.020367</td>\n",
              "      <td>0.004023</td>\n",
              "      <td>0.031928</td>\n",
              "    </tr>\n",
              "    <tr>\n",
              "      <th>2021-02-03</th>\n",
              "      <td>-0.118508</td>\n",
              "      <td>-0.091671</td>\n",
              "      <td>-0.078094</td>\n",
              "      <td>-0.068525</td>\n",
              "      <td>-0.058122</td>\n",
              "      <td>-0.044630</td>\n",
              "      <td>-0.027210</td>\n",
              "      <td>-0.005745</td>\n",
              "      <td>0.019505</td>\n",
              "      <td>0.048093</td>\n",
              "    </tr>\n",
              "    <tr>\n",
              "      <th>2021-02-04</th>\n",
              "      <td>-0.069287</td>\n",
              "      <td>-0.041651</td>\n",
              "      <td>-0.028050</td>\n",
              "      <td>-0.018522</td>\n",
              "      <td>-0.007617</td>\n",
              "      <td>0.006927</td>\n",
              "      <td>0.025795</td>\n",
              "      <td>0.048950</td>\n",
              "      <td>0.076006</td>\n",
              "      <td>0.106421</td>\n",
              "    </tr>\n",
              "    <tr>\n",
              "      <th>2021-02-05</th>\n",
              "      <td>-0.061380</td>\n",
              "      <td>-0.034100</td>\n",
              "      <td>-0.016956</td>\n",
              "      <td>-0.002712</td>\n",
              "      <td>0.012760</td>\n",
              "      <td>0.031450</td>\n",
              "      <td>0.054050</td>\n",
              "      <td>0.080579</td>\n",
              "      <td>0.110700</td>\n",
              "      <td>0.143910</td>\n",
              "    </tr>\n",
              "  </tbody>\n",
              "</table>\n",
              "</div>"
            ],
            "text/plain": [
              "                 0.5       1.0       1.5  ...       4.0       4.5       5.0\n",
              "years:                                    ...                              \n",
              "2021-02-01 -0.133517 -0.111626 -0.102026  ... -0.042472 -0.018699  0.008595\n",
              "2021-02-02 -0.129386 -0.098325 -0.084978  ... -0.020367  0.004023  0.031928\n",
              "2021-02-03 -0.118508 -0.091671 -0.078094  ... -0.005745  0.019505  0.048093\n",
              "2021-02-04 -0.069287 -0.041651 -0.028050  ...  0.048950  0.076006  0.106421\n",
              "2021-02-05 -0.061380 -0.034100 -0.016956  ...  0.080579  0.110700  0.143910\n",
              "\n",
              "[5 rows x 10 columns]"
            ]
          },
          "metadata": {
            "tags": []
          },
          "execution_count": 73
        }
      ]
    },
    {
      "cell_type": "markdown",
      "metadata": {
        "id": "5A9VcIrN-sk6"
      },
      "source": [
        "#Standardize Data\r\n"
      ]
    },
    {
      "cell_type": "code",
      "metadata": {
        "colab": {
          "base_uri": "https://localhost:8080/"
        },
        "id": "zJirgX0Lz1Sd",
        "outputId": "a9b2209b-23c7-4074-a647-6dba8400a109"
      },
      "source": [
        "from sklearn.preprocessing import StandardScaler\r\n",
        "# features = ['0.5' ,'1.0']\r\n",
        "# Separating out the features\r\n",
        "X = df.values\r\n",
        "X#-0.13351706, -0.11162642, -0.10202635, -0.09610075, -0.08868899\r\n",
        "# Standardizing the features\r\n",
        "x = StandardScaler().fit_transform(X)\r\n",
        "x#-2.60795527e+00, -2.41323673e+00, -2.16613962e+00,        -2.03878006e+00, -1.95087877e+00"
      ],
      "execution_count": 75,
      "outputs": [
        {
          "output_type": "execute_result",
          "data": {
            "text/plain": [
              "array([[-2.60795527e+00, -2.41323673e+00, -2.16613962e+00,\n",
              "        -2.03878006e+00, -1.95087877e+00, -1.88196569e+00,\n",
              "        -1.82684898e+00, -1.78282215e+00, -1.74780276e+00,\n",
              "        -1.72011524e+00],\n",
              "       [-2.43137693e+00, -1.88926638e+00, -1.64197987e+00,\n",
              "        -1.58146054e+00, -1.55790623e+00, -1.53992640e+00,\n",
              "        -1.52333399e+00, -1.50823521e+00, -1.49501621e+00,\n",
              "        -1.48385702e+00],\n",
              "       [-1.96636397e+00, -1.62714493e+00, -1.43034471e+00,\n",
              "        -1.37004842e+00, -1.34911085e+00, -1.33870471e+00,\n",
              "        -1.33176941e+00, -1.32660263e+00, -1.32278135e+00,\n",
              "        -1.32017381e+00],\n",
              "       [ 1.37681131e-01,  3.43322394e-01,  1.08280853e-01,\n",
              "        -1.57438931e-01, -3.54828693e-01, -4.89974251e-01,\n",
              "        -5.82392446e-01, -6.47191309e-01, -6.94191219e-01,\n",
              "        -7.29567634e-01],\n",
              "       [ 4.75667559e-01,  6.40775444e-01,  4.49349868e-01,\n",
              "         2.25977118e-01,  4.63409368e-02, -8.62727486e-02,\n",
              "        -1.82927885e-01, -2.54307197e-01, -3.08212824e-01,\n",
              "        -3.49963623e-01],\n",
              "       [ 5.07220682e-01,  3.73317733e-01,  2.06011290e-01,\n",
              "         5.63876778e-02, -6.84664089e-02, -1.68161560e-01,\n",
              "        -2.46926082e-01, -3.09457418e-01, -3.59593973e-01,\n",
              "        -4.00227252e-01],\n",
              "       [ 4.55911416e-01,  2.01573658e-01, -1.40664224e-02,\n",
              "        -1.78408067e-01, -3.00301005e-01, -3.89147032e-01,\n",
              "        -4.54726361e-01, -5.04266501e-01, -5.42620965e-01,\n",
              "        -5.73005676e-01],\n",
              "       [ 3.66257564e-01,  2.04455092e-01,  2.28188182e-02,\n",
              "        -1.20127757e-01, -2.26696208e-01, -3.04396506e-01,\n",
              "        -3.61485268e-01, -4.04197521e-01, -4.36797314e-01,\n",
              "        -4.62158207e-01],\n",
              "       [ 3.77154040e-01,  2.34408986e-02, -2.28435668e-01,\n",
              "        -3.79831042e-01, -4.71190076e-01, -5.27799812e-01,\n",
              "        -5.64635991e-01, -5.89815019e-01, -6.07766403e-01,\n",
              "        -6.21007164e-01],\n",
              "       [ 3.31258901e-01,  9.72630016e-02, -1.33315470e-01,\n",
              "        -2.56595581e-01, -3.15096589e-01, -3.41093206e-01,\n",
              "        -3.51625585e-01, -3.54691334e-01, -3.53971902e-01,\n",
              "        -3.51203867e-01],\n",
              "       [ 2.74829799e-01,  1.00751098e-01, -2.25259958e-02,\n",
              "        -7.81774897e-02, -1.00393063e-01, -1.06403219e-01,\n",
              "        -1.04506318e-01, -9.84672087e-02, -8.99560053e-02,\n",
              "        -7.97523940e-02],\n",
              "       [ 2.89156233e-01,  6.55698252e-02,  3.43120985e-02,\n",
              "         6.09745926e-02,  9.22198964e-02,  1.20307421e-01,\n",
              "         1.45399151e-01,  1.68478336e-01,  1.90340754e-01,\n",
              "         2.11494478e-01],\n",
              "       [ 1.48442185e-01, -4.48747749e-01, -5.20851490e-01,\n",
              "        -4.34163279e-01, -3.34399906e-01, -2.51475273e-01,\n",
              "        -1.87355793e-01, -1.38196206e-01, -9.98601069e-02,\n",
              "        -6.90320977e-02],\n",
              "       [ 2.90791636e-01, -1.22332715e-01, -1.06463102e-01,\n",
              "         1.17377488e-02,  1.15521747e-01,  1.90537255e-01,\n",
              "         2.42620250e-01,  2.79042984e-01,  3.05322505e-01,\n",
              "         3.25259891e-01],\n",
              "       [ 5.38810190e-01,  5.21005698e-01,  6.02972670e-01,\n",
              "         7.16231830e-01,  8.03057315e-01,  8.58294929e-01,\n",
              "         8.90476793e-01,  9.07842440e-01,  9.16178555e-01,\n",
              "         9.19287256e-01],\n",
              "       [ 4.11891770e-01,  2.56309609e-01,  3.62409067e-01,\n",
              "         5.26604684e-01,  6.53194491e-01,  7.36636229e-01,\n",
              "         7.89241840e-01,  8.21946923e-01,  8.42132641e-01,\n",
              "         8.54526857e-01],\n",
              "       [ 4.20933583e-01,  1.96314195e-03,  5.83904109e-02,\n",
              "         2.61001677e-01,  4.49386797e-01,  5.96609164e-01,\n",
              "         7.08636739e-01,  7.94740803e-01,  8.62073430e-01,\n",
              "         9.15586598e-01],\n",
              "       [ 3.99296961e-01,  8.24346318e-02,  1.42774543e-01,\n",
              "         3.38126144e-01,  5.33261146e-01,  6.97327440e-01,\n",
              "         8.30589238e-01,  9.38929770e-01,  1.02772566e+00,\n",
              "         1.10100577e+00],\n",
              "       [ 7.10290121e-01,  1.48970435e+00,  1.75724285e+00,\n",
              "         1.81982016e+00,  1.81603050e+00,  1.79252033e+00,\n",
              "         1.76551030e+00,  1.73987701e+00,  1.71661328e+00,\n",
              "         1.69551357e+00],\n",
              "       [ 8.70102405e-01,  2.09884194e+00,  2.51955987e+00,\n",
              "         2.57816954e+00,  2.52025497e+00,  2.43308764e+00,\n",
              "         2.34605979e+00,  2.26739144e+00,  2.19818419e+00,\n",
              "         2.13738956e+00]])"
            ]
          },
          "metadata": {
            "tags": []
          },
          "execution_count": 75
        }
      ]
    },
    {
      "cell_type": "markdown",
      "metadata": {
        "id": "BIIzIoRF_qiB"
      },
      "source": [
        "#Calculate Correlation Matrix"
      ]
    },
    {
      "cell_type": "code",
      "metadata": {
        "colab": {
          "base_uri": "https://localhost:8080/",
          "height": 363
        },
        "id": "zJLCczV2_v4s",
        "outputId": "830a91dc-8de8-42e3-f5c2-bb3f7ee4916d"
      },
      "source": [
        "corr_matrix=df.corr()\r\n",
        "corr_matrix"
      ],
      "execution_count": 76,
      "outputs": [
        {
          "output_type": "execute_result",
          "data": {
            "text/html": [
              "<div>\n",
              "<style scoped>\n",
              "    .dataframe tbody tr th:only-of-type {\n",
              "        vertical-align: middle;\n",
              "    }\n",
              "\n",
              "    .dataframe tbody tr th {\n",
              "        vertical-align: top;\n",
              "    }\n",
              "\n",
              "    .dataframe thead th {\n",
              "        text-align: right;\n",
              "    }\n",
              "</style>\n",
              "<table border=\"1\" class=\"dataframe\">\n",
              "  <thead>\n",
              "    <tr style=\"text-align: right;\">\n",
              "      <th></th>\n",
              "      <th>0.5</th>\n",
              "      <th>1.0</th>\n",
              "      <th>1.5</th>\n",
              "      <th>2.0</th>\n",
              "      <th>2.5</th>\n",
              "      <th>3.0</th>\n",
              "      <th>3.5</th>\n",
              "      <th>4.0</th>\n",
              "      <th>4.5</th>\n",
              "      <th>5.0</th>\n",
              "    </tr>\n",
              "  </thead>\n",
              "  <tbody>\n",
              "    <tr>\n",
              "      <th>0.5</th>\n",
              "      <td>1.000000</td>\n",
              "      <td>0.904239</td>\n",
              "      <td>0.827522</td>\n",
              "      <td>0.796784</td>\n",
              "      <td>0.776729</td>\n",
              "      <td>0.759958</td>\n",
              "      <td>0.745576</td>\n",
              "      <td>0.733419</td>\n",
              "      <td>0.723288</td>\n",
              "      <td>0.714936</td>\n",
              "    </tr>\n",
              "    <tr>\n",
              "      <th>1.0</th>\n",
              "      <td>0.904239</td>\n",
              "      <td>1.000000</td>\n",
              "      <td>0.980702</td>\n",
              "      <td>0.950137</td>\n",
              "      <td>0.916883</td>\n",
              "      <td>0.885753</td>\n",
              "      <td>0.858741</td>\n",
              "      <td>0.835977</td>\n",
              "      <td>0.816932</td>\n",
              "      <td>0.800956</td>\n",
              "    </tr>\n",
              "    <tr>\n",
              "      <th>1.5</th>\n",
              "      <td>0.827522</td>\n",
              "      <td>0.980702</td>\n",
              "      <td>1.000000</td>\n",
              "      <td>0.989910</td>\n",
              "      <td>0.968119</td>\n",
              "      <td>0.943718</td>\n",
              "      <td>0.920838</td>\n",
              "      <td>0.900693</td>\n",
              "      <td>0.883324</td>\n",
              "      <td>0.868400</td>\n",
              "    </tr>\n",
              "    <tr>\n",
              "      <th>2.0</th>\n",
              "      <td>0.796784</td>\n",
              "      <td>0.950137</td>\n",
              "      <td>0.989910</td>\n",
              "      <td>1.000000</td>\n",
              "      <td>0.993595</td>\n",
              "      <td>0.980235</td>\n",
              "      <td>0.965289</td>\n",
              "      <td>0.950962</td>\n",
              "      <td>0.937963</td>\n",
              "      <td>0.926396</td>\n",
              "    </tr>\n",
              "    <tr>\n",
              "      <th>2.5</th>\n",
              "      <td>0.776729</td>\n",
              "      <td>0.916883</td>\n",
              "      <td>0.968119</td>\n",
              "      <td>0.993595</td>\n",
              "      <td>1.000000</td>\n",
              "      <td>0.996278</td>\n",
              "      <td>0.988489</td>\n",
              "      <td>0.979550</td>\n",
              "      <td>0.970694</td>\n",
              "      <td>0.962386</td>\n",
              "    </tr>\n",
              "    <tr>\n",
              "      <th>3.0</th>\n",
              "      <td>0.759958</td>\n",
              "      <td>0.885753</td>\n",
              "      <td>0.943718</td>\n",
              "      <td>0.980235</td>\n",
              "      <td>0.996278</td>\n",
              "      <td>1.000000</td>\n",
              "      <td>0.997841</td>\n",
              "      <td>0.993206</td>\n",
              "      <td>0.987702</td>\n",
              "      <td>0.982060</td>\n",
              "    </tr>\n",
              "    <tr>\n",
              "      <th>3.5</th>\n",
              "      <td>0.745576</td>\n",
              "      <td>0.858741</td>\n",
              "      <td>0.920838</td>\n",
              "      <td>0.965289</td>\n",
              "      <td>0.988489</td>\n",
              "      <td>0.997841</td>\n",
              "      <td>1.000000</td>\n",
              "      <td>0.998700</td>\n",
              "      <td>0.995819</td>\n",
              "      <td>0.992281</td>\n",
              "    </tr>\n",
              "    <tr>\n",
              "      <th>4.0</th>\n",
              "      <td>0.733419</td>\n",
              "      <td>0.835977</td>\n",
              "      <td>0.900693</td>\n",
              "      <td>0.950962</td>\n",
              "      <td>0.979550</td>\n",
              "      <td>0.993206</td>\n",
              "      <td>0.998700</td>\n",
              "      <td>1.000000</td>\n",
              "      <td>0.999179</td>\n",
              "      <td>0.997303</td>\n",
              "    </tr>\n",
              "    <tr>\n",
              "      <th>4.5</th>\n",
              "      <td>0.723288</td>\n",
              "      <td>0.816932</td>\n",
              "      <td>0.883324</td>\n",
              "      <td>0.937963</td>\n",
              "      <td>0.970694</td>\n",
              "      <td>0.987702</td>\n",
              "      <td>0.995819</td>\n",
              "      <td>0.999179</td>\n",
              "      <td>1.000000</td>\n",
              "      <td>0.999457</td>\n",
              "    </tr>\n",
              "    <tr>\n",
              "      <th>5.0</th>\n",
              "      <td>0.714936</td>\n",
              "      <td>0.800956</td>\n",
              "      <td>0.868400</td>\n",
              "      <td>0.926396</td>\n",
              "      <td>0.962386</td>\n",
              "      <td>0.982060</td>\n",
              "      <td>0.992281</td>\n",
              "      <td>0.997303</td>\n",
              "      <td>0.999457</td>\n",
              "      <td>1.000000</td>\n",
              "    </tr>\n",
              "  </tbody>\n",
              "</table>\n",
              "</div>"
            ],
            "text/plain": [
              "          0.5       1.0       1.5  ...       4.0       4.5       5.0\n",
              "0.5  1.000000  0.904239  0.827522  ...  0.733419  0.723288  0.714936\n",
              "1.0  0.904239  1.000000  0.980702  ...  0.835977  0.816932  0.800956\n",
              "1.5  0.827522  0.980702  1.000000  ...  0.900693  0.883324  0.868400\n",
              "2.0  0.796784  0.950137  0.989910  ...  0.950962  0.937963  0.926396\n",
              "2.5  0.776729  0.916883  0.968119  ...  0.979550  0.970694  0.962386\n",
              "3.0  0.759958  0.885753  0.943718  ...  0.993206  0.987702  0.982060\n",
              "3.5  0.745576  0.858741  0.920838  ...  0.998700  0.995819  0.992281\n",
              "4.0  0.733419  0.835977  0.900693  ...  1.000000  0.999179  0.997303\n",
              "4.5  0.723288  0.816932  0.883324  ...  0.999179  1.000000  0.999457\n",
              "5.0  0.714936  0.800956  0.868400  ...  0.997303  0.999457  1.000000\n",
              "\n",
              "[10 rows x 10 columns]"
            ]
          },
          "metadata": {
            "tags": []
          },
          "execution_count": 76
        }
      ]
    },
    {
      "cell_type": "code",
      "metadata": {
        "colab": {
          "base_uri": "https://localhost:8080/",
          "height": 809
        },
        "id": "PjIyL9y5AVZC",
        "outputId": "3972844a-ee32-47f3-c85a-ba56cf64fd67"
      },
      "source": [
        "eigenvalues, eigenvectors = np.linalg.eig(corr_matrix)\r\n",
        "print(eigenvectors)\r\n",
        "# Put data into a DataFrame\r\n",
        "df_eigval = pd.DataFrame({\"Eigenvalues\":eigenvalues})\r\n",
        "\r\n",
        "# Work out explained proportion \r\n",
        "df_eigval[\"Explained proportion\"] = df_eigval[\"Eigenvalues\"] / np.sum(df_eigval[\"Eigenvalues\"])#Format as percentage\r\n",
        "df_eigval.style.format({\"Explained proportion\": \"{:.2%}\"})"
      ],
      "execution_count": 80,
      "outputs": [
        {
          "output_type": "stream",
          "text": [
            "[[-2.71479753e-01 -6.45687462e-01  6.61004087e-01  2.39286383e-01\n",
            "   1.17644870e-01 -3.62914294e-02  6.23862592e-03  2.39280702e-03\n",
            "   1.99241557e-04 -1.03930088e-06]\n",
            " [-3.05653345e-01 -4.63218754e-01 -2.69460796e-01 -5.83270696e-01\n",
            "  -4.75765596e-01  2.19298905e-01 -6.27917470e-02 -2.81977514e-02\n",
            "  -2.78494853e-03 -9.21799514e-05]\n",
            " [-3.17738956e-01 -2.30205395e-01 -4.44936590e-01 -7.82496202e-02\n",
            "   4.72185575e-01 -5.57266388e-01  2.76922745e-01  1.76016927e-01\n",
            "   2.78496069e-02  2.65514566e-03]\n",
            " [-3.25222219e-01 -5.75990258e-02 -3.31618431e-01  2.96802217e-01\n",
            "   3.23854130e-01  3.11563077e-01 -4.56439246e-01 -5.08412985e-01\n",
            "  -1.52854424e-01 -2.66917792e-02]\n",
            " [-3.27532299e-01  6.36505602e-02 -1.78342747e-01  3.85914105e-01\n",
            "  -8.15378717e-02  3.92675080e-01  1.34097642e-02  5.82710226e-01\n",
            "   4.35129304e-01  1.34256151e-01]\n",
            " [-3.26769182e-01  1.48404013e-01 -4.43712077e-02  3.04255668e-01\n",
            "  -3.19722034e-01  3.78302302e-02  4.27022339e-01  3.18470719e-02\n",
            "  -5.89002639e-01 -3.77780648e-01]\n",
            " [-3.24687553e-01  2.08806362e-01  6.31829474e-02  1.42262636e-01\n",
            "  -3.36722927e-01 -2.82892127e-01  1.90816006e-01 -4.20943025e-01\n",
            "   1.83055493e-01  6.21469093e-01]\n",
            " [-3.22188542e-01  2.52952404e-01  1.48681766e-01 -4.95085772e-02\n",
            "  -1.82291193e-01 -3.59861208e-01 -3.33082211e-01 -8.02393105e-02\n",
            "   4.17101247e-01 -5.94614505e-01]\n",
            " [-3.19670637e-01  2.85958816e-01  2.17602286e-01 -2.44600607e-01\n",
            "   8.36600269e-02 -1.30814880e-01 -4.66185143e-01  4.01324932e-01\n",
            "  -4.60447544e-01  3.07155000e-01]\n",
            " [-3.17293169e-01  3.11080875e-01  2.74410417e-01 -4.29304486e-01\n",
            "   4.11684412e-01  4.00884176e-01  4.04702718e-01 -1.56444616e-01\n",
            "   1.41759671e-01 -6.63560205e-02]]\n"
          ],
          "name": "stdout"
        },
        {
          "output_type": "execute_result",
          "data": {
            "text/html": [
              "<style  type=\"text/css\" >\n",
              "</style><table id=\"T_0775d39a_7db9_11eb_9bdd_0242ac1c0002\" ><thead>    <tr>        <th class=\"blank level0\" ></th>        <th class=\"col_heading level0 col0\" >Eigenvalues</th>        <th class=\"col_heading level0 col1\" >Explained proportion</th>    </tr></thead><tbody>\n",
              "                <tr>\n",
              "                        <th id=\"T_0775d39a_7db9_11eb_9bdd_0242ac1c0002level0_row0\" class=\"row_heading level0 row0\" >0</th>\n",
              "                        <td id=\"T_0775d39a_7db9_11eb_9bdd_0242ac1c0002row0_col0\" class=\"data row0 col0\" >9.242321</td>\n",
              "                        <td id=\"T_0775d39a_7db9_11eb_9bdd_0242ac1c0002row0_col1\" class=\"data row0 col1\" >92.42%</td>\n",
              "            </tr>\n",
              "            <tr>\n",
              "                        <th id=\"T_0775d39a_7db9_11eb_9bdd_0242ac1c0002level0_row1\" class=\"row_heading level0 row1\" >1</th>\n",
              "                        <td id=\"T_0775d39a_7db9_11eb_9bdd_0242ac1c0002row1_col0\" class=\"data row1 col0\" >0.570380</td>\n",
              "                        <td id=\"T_0775d39a_7db9_11eb_9bdd_0242ac1c0002row1_col1\" class=\"data row1 col1\" >5.70%</td>\n",
              "            </tr>\n",
              "            <tr>\n",
              "                        <th id=\"T_0775d39a_7db9_11eb_9bdd_0242ac1c0002level0_row2\" class=\"row_heading level0 row2\" >2</th>\n",
              "                        <td id=\"T_0775d39a_7db9_11eb_9bdd_0242ac1c0002row2_col0\" class=\"data row2 col0\" >0.185185</td>\n",
              "                        <td id=\"T_0775d39a_7db9_11eb_9bdd_0242ac1c0002row2_col1\" class=\"data row2 col1\" >1.85%</td>\n",
              "            </tr>\n",
              "            <tr>\n",
              "                        <th id=\"T_0775d39a_7db9_11eb_9bdd_0242ac1c0002level0_row3\" class=\"row_heading level0 row3\" >3</th>\n",
              "                        <td id=\"T_0775d39a_7db9_11eb_9bdd_0242ac1c0002row3_col0\" class=\"data row3 col0\" >0.002056</td>\n",
              "                        <td id=\"T_0775d39a_7db9_11eb_9bdd_0242ac1c0002row3_col1\" class=\"data row3 col1\" >0.02%</td>\n",
              "            </tr>\n",
              "            <tr>\n",
              "                        <th id=\"T_0775d39a_7db9_11eb_9bdd_0242ac1c0002level0_row4\" class=\"row_heading level0 row4\" >4</th>\n",
              "                        <td id=\"T_0775d39a_7db9_11eb_9bdd_0242ac1c0002row4_col0\" class=\"data row4 col0\" >0.000055</td>\n",
              "                        <td id=\"T_0775d39a_7db9_11eb_9bdd_0242ac1c0002row4_col1\" class=\"data row4 col1\" >0.00%</td>\n",
              "            </tr>\n",
              "            <tr>\n",
              "                        <th id=\"T_0775d39a_7db9_11eb_9bdd_0242ac1c0002level0_row5\" class=\"row_heading level0 row5\" >5</th>\n",
              "                        <td id=\"T_0775d39a_7db9_11eb_9bdd_0242ac1c0002row5_col0\" class=\"data row5 col0\" >0.000002</td>\n",
              "                        <td id=\"T_0775d39a_7db9_11eb_9bdd_0242ac1c0002row5_col1\" class=\"data row5 col1\" >0.00%</td>\n",
              "            </tr>\n",
              "            <tr>\n",
              "                        <th id=\"T_0775d39a_7db9_11eb_9bdd_0242ac1c0002level0_row6\" class=\"row_heading level0 row6\" >6</th>\n",
              "                        <td id=\"T_0775d39a_7db9_11eb_9bdd_0242ac1c0002row6_col0\" class=\"data row6 col0\" >0.000000</td>\n",
              "                        <td id=\"T_0775d39a_7db9_11eb_9bdd_0242ac1c0002row6_col1\" class=\"data row6 col1\" >0.00%</td>\n",
              "            </tr>\n",
              "            <tr>\n",
              "                        <th id=\"T_0775d39a_7db9_11eb_9bdd_0242ac1c0002level0_row7\" class=\"row_heading level0 row7\" >7</th>\n",
              "                        <td id=\"T_0775d39a_7db9_11eb_9bdd_0242ac1c0002row7_col0\" class=\"data row7 col0\" >0.000000</td>\n",
              "                        <td id=\"T_0775d39a_7db9_11eb_9bdd_0242ac1c0002row7_col1\" class=\"data row7 col1\" >0.00%</td>\n",
              "            </tr>\n",
              "            <tr>\n",
              "                        <th id=\"T_0775d39a_7db9_11eb_9bdd_0242ac1c0002level0_row8\" class=\"row_heading level0 row8\" >8</th>\n",
              "                        <td id=\"T_0775d39a_7db9_11eb_9bdd_0242ac1c0002row8_col0\" class=\"data row8 col0\" >0.000000</td>\n",
              "                        <td id=\"T_0775d39a_7db9_11eb_9bdd_0242ac1c0002row8_col1\" class=\"data row8 col1\" >0.00%</td>\n",
              "            </tr>\n",
              "            <tr>\n",
              "                        <th id=\"T_0775d39a_7db9_11eb_9bdd_0242ac1c0002level0_row9\" class=\"row_heading level0 row9\" >9</th>\n",
              "                        <td id=\"T_0775d39a_7db9_11eb_9bdd_0242ac1c0002row9_col0\" class=\"data row9 col0\" >0.000000</td>\n",
              "                        <td id=\"T_0775d39a_7db9_11eb_9bdd_0242ac1c0002row9_col1\" class=\"data row9 col1\" >0.00%</td>\n",
              "            </tr>\n",
              "    </tbody></table>"
            ],
            "text/plain": [
              "<pandas.io.formats.style.Styler at 0x7fafbb34cf90>"
            ]
          },
          "metadata": {
            "tags": []
          },
          "execution_count": 80
        }
      ]
    },
    {
      "cell_type": "code",
      "metadata": {
        "colab": {
          "base_uri": "https://localhost:8080/"
        },
        "id": "D93DKHXLAg2M",
        "outputId": "81f95472-0ecc-4ca1-f976-07d8a1bfb1f0"
      },
      "source": [
        "principal_components = x.dot(eigenvectors)\r\n",
        "principal_components"
      ],
      "execution_count": 78,
      "outputs": [
        {
          "output_type": "execute_result",
          "data": {
            "text/plain": [
              "array([[ 6.32295067e+00,  1.14708212e+00, -2.35116675e-01,\n",
              "         1.67763212e-02,  4.78048562e-03, -2.48085754e-03,\n",
              "         8.36680672e-05,  5.81312667e-05,  6.21758274e-06,\n",
              "         5.36755356e-07],\n",
              "       [ 5.21631655e+00,  9.97737413e-01, -5.49879384e-01,\n",
              "        -2.98222741e-02, -3.37047896e-03,  6.22946846e-04,\n",
              "         2.50024875e-04,  3.47668330e-05, -4.09637120e-06,\n",
              "        -4.38662013e-07],\n",
              "       [ 4.51210314e+00,  7.44435259e-01, -4.02069198e-01,\n",
              "         2.24097936e-02, -2.15364764e-03,  2.29446331e-03,\n",
              "        -4.67425726e-04, -9.86125030e-05, -5.19453916e-06,\n",
              "        -1.88944384e-07],\n",
              "       [ 1.00182124e+00, -1.06987053e+00, -3.96732097e-01,\n",
              "        -7.63215843e-02, -5.76006913e-03, -9.76376778e-04,\n",
              "        -3.85142238e-05,  1.01385488e-05,  1.28134224e-05,\n",
              "         2.27823488e-07],\n",
              "       [-1.77347955e-01, -1.02979149e+00, -3.50022824e-01,\n",
              "        -2.41844864e-02, -1.63984343e-03,  1.47855755e-03,\n",
              "        -3.43848653e-04, -6.87570519e-06,  9.34419759e-06,\n",
              "        -6.67320020e-07],\n",
              "       [ 1.63591146e-01, -9.37590216e-01, -1.05695875e-01,\n",
              "         6.66238300e-02,  1.65075296e-03,  7.89549106e-04,\n",
              "        -7.04880796e-05,  1.00511405e-04, -2.69457010e-06,\n",
              "         4.51513022e-07],\n",
              "       [ 7.68012528e-01, -1.00702353e+00,  4.26813570e-03,\n",
              "         4.43738549e-02,  5.96540607e-03, -1.35121193e-03,\n",
              "        -2.19200963e-04,  6.59058165e-06, -3.90623592e-06,\n",
              "         1.76934826e-08],\n",
              "       [ 5.77480115e-01, -8.35529907e-01, -3.41807950e-02,\n",
              "         2.46812854e-02,  2.08928907e-03,  4.51912509e-04,\n",
              "        -1.81561515e-04,  1.16270544e-05, -6.98514491e-06,\n",
              "        -1.79336030e-07],\n",
              "       [ 1.17804494e+00, -9.22310327e-01,  1.52002470e-01,\n",
              "         3.42625469e-03,  6.52295465e-04, -2.04452862e-03,\n",
              "         1.46180930e-05,  1.51612538e-05, -7.77625078e-06,\n",
              "        -5.03591098e-07],\n",
              "       [ 6.73849260e-01, -6.57765722e-01,  1.60141616e-01,\n",
              "        -6.36787082e-02, -9.74629503e-03, -3.55400209e-04,\n",
              "         2.10570146e-04, -7.13075156e-05, -9.09038118e-06,\n",
              "         8.98339959e-07],\n",
              "       [ 1.14546161e-01, -3.33878398e-01,  1.50385684e-01,\n",
              "        -3.93106365e-02,  3.42998605e-03,  1.66394217e-03,\n",
              "         5.67077820e-04, -2.31495210e-05, -2.48317631e-06,\n",
              "         2.03433792e-07],\n",
              "       [-4.28235221e-01, -1.15659101e-02,  2.49884287e-01,\n",
              "        -6.45739777e-03,  1.61076325e-02,  2.64995698e-03,\n",
              "         4.53607274e-04,  2.90984720e-05,  4.62877075e-06,\n",
              "         1.10030815e-07],\n",
              "       [ 7.54440781e-01,  7.42180522e-02,  5.92501446e-01,\n",
              "         3.78447955e-02,  3.59171736e-03, -1.51492070e-03,\n",
              "         6.35168833e-05, -1.24322903e-04,  6.04165033e-06,\n",
              "        -8.98716300e-08],\n",
              "       [-4.81126955e-01,  2.38105148e-01,  4.52110016e-01,\n",
              "         6.16867403e-02,  2.48929902e-03, -4.26024730e-04,\n",
              "         2.17104417e-04, -4.90032958e-05,  5.34072799e-06,\n",
              "        -4.21745221e-07],\n",
              "       [-2.43971926e+00,  3.72725214e-01,  1.71528931e-01,\n",
              "         2.44752549e-02, -1.79459607e-02, -2.81355831e-04,\n",
              "         4.47304070e-04,  5.69109360e-05,  9.47738721e-08,\n",
              "        -8.36578799e-07],\n",
              "       [-1.99264899e+00,  5.31809142e-01,  3.07954144e-01,\n",
              "         5.19518231e-02, -1.39391078e-02,  1.07847615e-03,\n",
              "        -1.45218005e-04,  2.90783583e-06,  4.12540075e-07,\n",
              "         7.41650481e-07],\n",
              "       [-1.61268446e+00,  6.96305218e-01,  6.60332560e-01,\n",
              "        -1.50411700e-02, -1.14154544e-03,  7.74571864e-04,\n",
              "        -5.07617701e-04,  6.32727827e-05,  7.16936715e-06,\n",
              "         2.65593429e-07],\n",
              "       [-1.94152373e+00,  8.36404958e-01,  6.57868743e-01,\n",
              "        -9.77643201e-02,  6.65278196e-03, -7.68219024e-04,\n",
              "        -3.37863023e-04,  3.42264825e-05, -1.08745937e-05,\n",
              "        -3.43813039e-07],\n",
              "       [-5.19943540e+00,  5.50655899e-01, -5.11628264e-01,\n",
              "        -3.28477300e-02,  2.70577677e-03, -8.46345135e-04,\n",
              "        -4.30798112e-05, -3.64088134e-05,  8.90815569e-06,\n",
              "         6.67538253e-09],\n",
              "       [-7.01043456e+00,  6.15847611e-01, -9.73652918e-01,\n",
              "         3.11783538e-02,  5.58152528e-03, -7.59136001e-04,\n",
              "         4.73260555e-05, -1.36631948e-05, -7.86992527e-06,\n",
              "         2.10353024e-07]])"
            ]
          },
          "metadata": {
            "tags": []
          },
          "execution_count": 78
        }
      ]
    },
    {
      "cell_type": "code",
      "metadata": {
        "colab": {
          "base_uri": "https://localhost:8080/",
          "height": 677
        },
        "id": "2eHsUYoFEd2w",
        "outputId": "0c37b3f0-c94e-40b8-ebc0-5e0b8cdb82a0"
      },
      "source": [
        "from sklearn.decomposition import PCA\r\n",
        "pca = PCA(n_components=2)\r\n",
        "principalComponents = pca.fit_transform(x)\r\n",
        "principalDf = pd.DataFrame(data = principalComponents, columns = ['principal component 1', 'principal component 2'])\r\n",
        "principalDf"
      ],
      "execution_count": 79,
      "outputs": [
        {
          "output_type": "execute_result",
          "data": {
            "text/html": [
              "<div>\n",
              "<style scoped>\n",
              "    .dataframe tbody tr th:only-of-type {\n",
              "        vertical-align: middle;\n",
              "    }\n",
              "\n",
              "    .dataframe tbody tr th {\n",
              "        vertical-align: top;\n",
              "    }\n",
              "\n",
              "    .dataframe thead th {\n",
              "        text-align: right;\n",
              "    }\n",
              "</style>\n",
              "<table border=\"1\" class=\"dataframe\">\n",
              "  <thead>\n",
              "    <tr style=\"text-align: right;\">\n",
              "      <th></th>\n",
              "      <th>principal component 1</th>\n",
              "      <th>principal component 2</th>\n",
              "    </tr>\n",
              "  </thead>\n",
              "  <tbody>\n",
              "    <tr>\n",
              "      <th>0</th>\n",
              "      <td>-6.322951</td>\n",
              "      <td>1.147082</td>\n",
              "    </tr>\n",
              "    <tr>\n",
              "      <th>1</th>\n",
              "      <td>-5.216317</td>\n",
              "      <td>0.997737</td>\n",
              "    </tr>\n",
              "    <tr>\n",
              "      <th>2</th>\n",
              "      <td>-4.512103</td>\n",
              "      <td>0.744435</td>\n",
              "    </tr>\n",
              "    <tr>\n",
              "      <th>3</th>\n",
              "      <td>-1.001821</td>\n",
              "      <td>-1.069871</td>\n",
              "    </tr>\n",
              "    <tr>\n",
              "      <th>4</th>\n",
              "      <td>0.177348</td>\n",
              "      <td>-1.029791</td>\n",
              "    </tr>\n",
              "    <tr>\n",
              "      <th>5</th>\n",
              "      <td>-0.163591</td>\n",
              "      <td>-0.937590</td>\n",
              "    </tr>\n",
              "    <tr>\n",
              "      <th>6</th>\n",
              "      <td>-0.768013</td>\n",
              "      <td>-1.007024</td>\n",
              "    </tr>\n",
              "    <tr>\n",
              "      <th>7</th>\n",
              "      <td>-0.577480</td>\n",
              "      <td>-0.835530</td>\n",
              "    </tr>\n",
              "    <tr>\n",
              "      <th>8</th>\n",
              "      <td>-1.178045</td>\n",
              "      <td>-0.922310</td>\n",
              "    </tr>\n",
              "    <tr>\n",
              "      <th>9</th>\n",
              "      <td>-0.673849</td>\n",
              "      <td>-0.657766</td>\n",
              "    </tr>\n",
              "    <tr>\n",
              "      <th>10</th>\n",
              "      <td>-0.114546</td>\n",
              "      <td>-0.333878</td>\n",
              "    </tr>\n",
              "    <tr>\n",
              "      <th>11</th>\n",
              "      <td>0.428235</td>\n",
              "      <td>-0.011566</td>\n",
              "    </tr>\n",
              "    <tr>\n",
              "      <th>12</th>\n",
              "      <td>-0.754441</td>\n",
              "      <td>0.074218</td>\n",
              "    </tr>\n",
              "    <tr>\n",
              "      <th>13</th>\n",
              "      <td>0.481127</td>\n",
              "      <td>0.238105</td>\n",
              "    </tr>\n",
              "    <tr>\n",
              "      <th>14</th>\n",
              "      <td>2.439719</td>\n",
              "      <td>0.372725</td>\n",
              "    </tr>\n",
              "    <tr>\n",
              "      <th>15</th>\n",
              "      <td>1.992649</td>\n",
              "      <td>0.531809</td>\n",
              "    </tr>\n",
              "    <tr>\n",
              "      <th>16</th>\n",
              "      <td>1.612684</td>\n",
              "      <td>0.696305</td>\n",
              "    </tr>\n",
              "    <tr>\n",
              "      <th>17</th>\n",
              "      <td>1.941524</td>\n",
              "      <td>0.836405</td>\n",
              "    </tr>\n",
              "    <tr>\n",
              "      <th>18</th>\n",
              "      <td>5.199435</td>\n",
              "      <td>0.550656</td>\n",
              "    </tr>\n",
              "    <tr>\n",
              "      <th>19</th>\n",
              "      <td>7.010435</td>\n",
              "      <td>0.615848</td>\n",
              "    </tr>\n",
              "  </tbody>\n",
              "</table>\n",
              "</div>"
            ],
            "text/plain": [
              "    principal component 1  principal component 2\n",
              "0               -6.322951               1.147082\n",
              "1               -5.216317               0.997737\n",
              "2               -4.512103               0.744435\n",
              "3               -1.001821              -1.069871\n",
              "4                0.177348              -1.029791\n",
              "5               -0.163591              -0.937590\n",
              "6               -0.768013              -1.007024\n",
              "7               -0.577480              -0.835530\n",
              "8               -1.178045              -0.922310\n",
              "9               -0.673849              -0.657766\n",
              "10              -0.114546              -0.333878\n",
              "11               0.428235              -0.011566\n",
              "12              -0.754441               0.074218\n",
              "13               0.481127               0.238105\n",
              "14               2.439719               0.372725\n",
              "15               1.992649               0.531809\n",
              "16               1.612684               0.696305\n",
              "17               1.941524               0.836405\n",
              "18               5.199435               0.550656\n",
              "19               7.010435               0.615848"
            ]
          },
          "metadata": {
            "tags": []
          },
          "execution_count": 79
        }
      ]
    }
  ]
}