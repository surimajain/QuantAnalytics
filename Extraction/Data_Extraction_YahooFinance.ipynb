{
  "nbformat": 4,
  "nbformat_minor": 0,
  "metadata": {
    "kernelspec": {
      "display_name": "Python 3",
      "language": "python",
      "name": "python3"
    },
    "language_info": {
      "codemirror_mode": {
        "name": "ipython",
        "version": 3
      },
      "file_extension": ".py",
      "mimetype": "text/x-python",
      "name": "python",
      "nbconvert_exporter": "python",
      "pygments_lexer": "ipython3",
      "version": "3.8.5"
    },
    "colab": {
      "name": "Data Extraction_YahooFinance.ipynb",
      "provenance": [],
      "collapsed_sections": [],
      "include_colab_link": true
    }
  },
  "cells": [
    {
      "cell_type": "markdown",
      "metadata": {
        "id": "view-in-github",
        "colab_type": "text"
      },
      "source": [
        "<a href=\"https://colab.research.google.com/github/surimajain/QuantAnalytics/blob/main/Extraction/Data_Extraction_YahooFinance.ipynb\" target=\"_parent\"><img src=\"https://colab.research.google.com/assets/colab-badge.svg\" alt=\"Open In Colab\"/></a>"
      ]
    },
    {
      "cell_type": "code",
      "metadata": {
        "id": "HiqxZ1fGvgZ9"
      },
      "source": [
        "pip install yfinance"
      ],
      "execution_count": null,
      "outputs": []
    },
    {
      "cell_type": "code",
      "metadata": {
        "id": "Fg-7-YxNkEq6"
      },
      "source": [
        "import pandas as pd\n",
        "import numpy as np\n",
        "import matplotlib.pyplot as plt\n",
        "import yfinance as yf"
      ],
      "execution_count": 136,
      "outputs": []
    },
    {
      "cell_type": "code",
      "metadata": {
        "colab": {
          "base_uri": "https://localhost:8080/"
        },
        "id": "kGAjs65GkErB",
        "outputId": "7275ee91-9bec-4222-96b8-833a86f1e4d2"
      },
      "source": [
        "stocks=['AAPL','IBM','MSFT']\n",
        "df_three_Stocks = yf.download(tickers = stocks,start = \"2016-04-01\",end = \"2021-03-31\",)"
      ],
      "execution_count": 145,
      "outputs": [
        {
          "output_type": "stream",
          "text": [
            "[*********************100%***********************]  3 of 3 completed\n"
          ],
          "name": "stdout"
        }
      ]
    },
    {
      "cell_type": "code",
      "metadata": {
        "id": "LwUDRYO6xBkY"
      },
      "source": [
        "df_three_Stocks.head()"
      ],
      "execution_count": null,
      "outputs": []
    },
    {
      "cell_type": "code",
      "metadata": {
        "id": "koL5fc-NkErC"
      },
      "source": [
        "df_three_Stocks.columns"
      ],
      "execution_count": null,
      "outputs": []
    },
    {
      "cell_type": "code",
      "metadata": {
        "id": "aifPFTPn4k0X"
      },
      "source": [
        "df=pd.DataFrame(columns=['Adj Close',\t'Close',\t'High',\t'Low',\t'Open','Volume','Ticker','Date'])\n",
        "for stock in stocks:\n",
        "  df_stock=yf.download(tickers = stock,start = \"2016-04-01\",end = \"2021-03-31\",)\n",
        "  df_stock['Ticker']=stock\n",
        "  df_stock['Date']=df_stock.index\n",
        "  df=df.append(df_stock)\n",
        "df.reset_index(drop=True,inplace=True)\n",
        "df_new=df[['Ticker','Date','Adj Close',\t'Close',\t'High',\t'Low',\t'Open','Volume']]\n",
        "df_new"
      ],
      "execution_count": null,
      "outputs": []
    },
    {
      "cell_type": "code",
      "metadata": {
        "colab": {
          "base_uri": "https://localhost:8080/"
        },
        "id": "1GWNiA53IleR",
        "outputId": "31448099-f4ed-4bc9-8c5c-615300e5239c"
      },
      "source": [
        "yf.Ticker('AAPL').info#.get('Currency')\n"
      ],
      "execution_count": 177,
      "outputs": [
        {
          "output_type": "execute_result",
          "data": {
            "text/plain": [
              "{'52WeekChange': 0.5840621,\n",
              " 'SandP52WeekChange': 0.38909745,\n",
              " 'address1': 'One Apple Park Way',\n",
              " 'algorithm': None,\n",
              " 'annualHoldingsTurnover': None,\n",
              " 'annualReportExpenseRatio': None,\n",
              " 'ask': 0,\n",
              " 'askSize': 1000,\n",
              " 'averageDailyVolume10Day': 78012066,\n",
              " 'averageVolume': 101903079,\n",
              " 'averageVolume10days': 78012066,\n",
              " 'beta': 1.203743,\n",
              " 'beta3Year': None,\n",
              " 'bid': 0,\n",
              " 'bidSize': 1200,\n",
              " 'bookValue': 4.146,\n",
              " 'category': None,\n",
              " 'circulatingSupply': None,\n",
              " 'city': 'Cupertino',\n",
              " 'companyOfficers': [],\n",
              " 'country': 'United States',\n",
              " 'currency': 'USD',\n",
              " 'dateShortInterest': 1619740800,\n",
              " 'dayHigh': 128,\n",
              " 'dayLow': 125.21,\n",
              " 'dividendRate': 0.88,\n",
              " 'dividendYield': 0.0069999998,\n",
              " 'earningsQuarterlyGrowth': 1.101,\n",
              " 'enterpriseToEbitda': 21.619,\n",
              " 'enterpriseToRevenue': 6.632,\n",
              " 'enterpriseValue': 2158040580096,\n",
              " 'exDividendDate': 1620345600,\n",
              " 'exchange': 'NMS',\n",
              " 'exchangeTimezoneName': 'America/New_York',\n",
              " 'exchangeTimezoneShortName': 'EDT',\n",
              " 'expireDate': None,\n",
              " 'fiftyDayAverage': 130.00029,\n",
              " 'fiftyTwoWeekHigh': 145.09,\n",
              " 'fiftyTwoWeekLow': 78.2725,\n",
              " 'fiveYearAverageReturn': None,\n",
              " 'fiveYearAvgDividendYield': 1.37,\n",
              " 'floatShares': 16670609616,\n",
              " 'forwardEps': 5.36,\n",
              " 'forwardPE': 23.40112,\n",
              " 'fromCurrency': None,\n",
              " 'fullTimeEmployees': 100000,\n",
              " 'fundFamily': None,\n",
              " 'fundInceptionDate': None,\n",
              " 'gmtOffSetMilliseconds': '-14400000',\n",
              " 'heldPercentInsiders': 0.00066,\n",
              " 'heldPercentInstitutions': 0.58703,\n",
              " 'impliedSharesOutstanding': None,\n",
              " 'industry': 'Consumer Electronics',\n",
              " 'isEsgPopulated': False,\n",
              " 'lastCapGain': None,\n",
              " 'lastDividendDate': 1620345600,\n",
              " 'lastDividendValue': 0.22,\n",
              " 'lastFiscalYearEnd': 1601078400,\n",
              " 'lastMarket': None,\n",
              " 'lastSplitDate': 1598832000,\n",
              " 'lastSplitFactor': '4:1',\n",
              " 'legalType': None,\n",
              " 'logo_url': 'https://logo.clearbit.com/apple.com',\n",
              " 'longBusinessSummary': 'Apple Inc. designs, manufactures, and markets smartphones, personal computers, tablets, wearables, and accessories worldwide. It also sells various related services. The company offers iPhone, a line of smartphones; Mac, a line of personal computers; iPad, a line of multi-purpose tablets; and wearables, home, and accessories comprising AirPods, Apple TV, Apple Watch, Beats products, HomePod, iPod touch, and other Apple-branded and third-party accessories. It also provides AppleCare support services; cloud services store services; and operates various platforms, including the App Store, that allow customers to discover and download applications and digital content, such as books, music, video, games, and podcasts. In addition, the company offers various services, such as Apple Arcade, a game subscription service; Apple Music, which offers users a curated listening experience with on-demand radio stations; Apple News+, a subscription news and magazine service; Apple TV+, which offers exclusive original content; Apple Card, a co-branded credit card; and Apple Pay, a cashless payment service, as well as licenses its intellectual property. The company serves consumers, and small and mid-sized businesses; and the education, enterprise, and government markets. It sells and delivers third-party applications for its products through the App Store. The company also sells its products through its retail and online stores, and direct sales force; and third-party cellular network carriers, wholesalers, retailers, and resellers. Apple Inc. was founded in 1977 and is headquartered in Cupertino, California.',\n",
              " 'longName': 'Apple Inc.',\n",
              " 'market': 'us_market',\n",
              " 'marketCap': 2093125599232,\n",
              " 'maxAge': 1,\n",
              " 'maxSupply': None,\n",
              " 'messageBoardId': 'finmb_24937',\n",
              " 'morningStarOverallRating': None,\n",
              " 'morningStarRiskRating': None,\n",
              " 'mostRecentQuarter': 1616803200,\n",
              " 'navPrice': None,\n",
              " 'netIncomeToCommon': 76311003136,\n",
              " 'nextFiscalYearEnd': 1664150400,\n",
              " 'open': 127.82,\n",
              " 'openInterest': None,\n",
              " 'payoutRatio': 0.1834,\n",
              " 'pegRatio': 1.45,\n",
              " 'phone': '408-996-1010',\n",
              " 'previousClose': 127.31,\n",
              " 'priceHint': 2,\n",
              " 'priceToBook': 30.253258,\n",
              " 'priceToSalesTrailing12Months': 6.432351,\n",
              " 'profitMargins': 0.23451,\n",
              " 'quoteType': 'EQUITY',\n",
              " 'regularMarketDayHigh': 128,\n",
              " 'regularMarketDayLow': 125.21,\n",
              " 'regularMarketOpen': 127.82,\n",
              " 'regularMarketPreviousClose': 127.31,\n",
              " 'regularMarketPrice': 125.43,\n",
              " 'regularMarketVolume': 79152773,\n",
              " 'revenueQuarterlyGrowth': None,\n",
              " 'sector': 'Technology',\n",
              " 'sharesOutstanding': 16687599616,\n",
              " 'sharesPercentSharesOut': 0.005,\n",
              " 'sharesShort': 82710348,\n",
              " 'sharesShortPreviousMonthDate': 1617148800,\n",
              " 'sharesShortPriorMonth': 101484668,\n",
              " 'shortName': 'Apple Inc.',\n",
              " 'shortPercentOfFloat': 0.005,\n",
              " 'shortRatio': 0.91,\n",
              " 'startDate': None,\n",
              " 'state': 'CA',\n",
              " 'strikePrice': None,\n",
              " 'symbol': 'AAPL',\n",
              " 'threeYearAverageReturn': None,\n",
              " 'toCurrency': None,\n",
              " 'totalAssets': None,\n",
              " 'tradeable': False,\n",
              " 'trailingAnnualDividendRate': 0.82,\n",
              " 'trailingAnnualDividendYield': 0.006440971,\n",
              " 'trailingEps': 4.449,\n",
              " 'trailingPE': 28.192854,\n",
              " 'twoHundredDayAverage': 127.247055,\n",
              " 'volume': 79152773,\n",
              " 'volume24Hr': None,\n",
              " 'volumeAllCurrencies': None,\n",
              " 'website': 'http://www.apple.com',\n",
              " 'yield': None,\n",
              " 'ytdReturn': None,\n",
              " 'zip': '95014'}"
            ]
          },
          "metadata": {
            "tags": []
          },
          "execution_count": 177
        }
      ]
    }
  ]
}