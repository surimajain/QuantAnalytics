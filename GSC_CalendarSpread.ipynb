{
  "nbformat": 4,
  "nbformat_minor": 0,
  "metadata": {
    "colab": {
      "name": "CDS-B1-M0-NB_Inclass_01_Pandas.ipynb",
      "provenance": [],
      "collapsed_sections": [],
      "include_colab_link": true
    },
    "kernelspec": {
      "name": "python3",
      "display_name": "Python 3"
    }
  },
  "cells": [
    {
      "cell_type": "markdown",
      "metadata": {
        "id": "view-in-github",
        "colab_type": "text"
      },
      "source": [
        "<a href=\"https://colab.research.google.com/github/surimajain/QuantAnalytics/blob/main/GSC_CalendarSpread.ipynb\" target=\"_parent\"><img src=\"https://colab.research.google.com/assets/colab-badge.svg\" alt=\"Open In Colab\"/></a>"
      ]
    },
    {
      "cell_type": "markdown",
      "metadata": {
        "id": "6kCLLTrspL2L"
      },
      "source": [
        "# Advanced Certification Program in Computational Data Science\n",
        "## A program by IISc and TalentSprint\n",
        "### Notebook Inclass 1: Introduction to Pandas"
      ]
    },
    {
      "cell_type": "markdown",
      "metadata": {
        "id": "3vDX1nWqsdet"
      },
      "source": [
        "## Learning Outcomes\n",
        "\n",
        "At the end of the experiment, you will be able to :\n",
        "- understand the various applications of Pandas and why it is a buliding block in the field of Data Science\n",
        "- define a Pandas DataFrame and describe how data can be stored and accessed in these Data Structures\n",
        "- describe the key characteristics of Pandas DataFrames\n",
        "- perform data cleaning, manipulation using Pandas"
      ]
    },
    {
      "cell_type": "markdown",
      "metadata": {
        "id": "_CAiJ0I4tL-U"
      },
      "source": [
        "## Dataset"
      ]
    },
    {
      "cell_type": "markdown",
      "metadata": {
        "id": "0c-RDkCGtNZc"
      },
      "source": [
        "The dataset choosen for this experiment is Height_Weight_Gender dataset. The dataset contains 200 records and 3 columns."
      ]
    },
    {
      "cell_type": "markdown",
      "metadata": {
        "id": "TSszHf9Ds2Y7"
      },
      "source": [
        "## Information \n",
        "\n"
      ]
    },
    {
      "cell_type": "markdown",
      "metadata": {
        "id": "HjZStLCZs4rF"
      },
      "source": [
        "#### Pandas\n",
        "\n",
        "* Pandas is an important Python library for data manipulation, wrangling, and analysis. \n",
        "* It functions as an intuitive and easy-to-use set of tools for performing operations on any kind of data. \n",
        "* Initial work for pandas was done by Wes McKinney in 2008 while he was a developer at AQR Capital Management. Since then, the scope of the pandas project has increased a lot and it has become a popular library of choice for data scientists all over the world. \n",
        "* Pandas allows you to work with both cross-sectional data and time series based data. \n",
        "* The data representation in pandas is done using two primary data structures:\n",
        "  - Series\n",
        "  - Dataframes\n",
        "\n",
        "##### Series\n",
        "\n",
        "* Series in pandas is a one-dimensional ndarray with an axis label. \n",
        "* It means that in functionality, it is almost similar to a simple array. \n",
        "* The values in a series will have an index that needs to be hashable. This requirement is needed when we perform manipulation and summarization on data contained in a series data structure.\n",
        "\n",
        "##### DataFrame\n",
        "\n",
        "* Dataframe is the most important and useful data structure, which is used for almost all kinds of data representation and manipulation in pandas. Unlike numpy arrays (in general) a dataframe can contain\n",
        "heterogeneous data.\n",
        "* Pandas dataframes are composed of rows and columns that can have header names, and the columns in pandas dataframes can be different types (e.g. the first column containing integers and the second column containing text strings). Each value in pandas dataframe is referred to as a cell that has a specific row index and column index within the tabular structure.\n",
        "\n",
        "##### Features\n",
        "\n",
        "* Fast and efficient DataFrame object with default and customized indexing.\n",
        "* Tools for loading data into in-memory data objects from different file formats.\n",
        "* Data alignment and integrated handling of missing data.\n",
        "* Reshaping and pivoting of date sets.\n",
        "* Label-based slicing, indexing and subsetting of large data sets.\n",
        "* Columns from a data structure can be deleted or inserted.\n",
        "* Group by data for aggregation and transformations.\n",
        "* High performance merging and joining of data.\n",
        "* Time Series functionality.\n",
        "\n",
        "**To know more about Pandas click [here](https://pandas.pydata.org/docs/getting_started/overview.html)**"
      ]
    },
    {
      "cell_type": "code",
      "metadata": {
        "id": "V75z0Q7PSC2c",
        "cellView": "form"
      },
      "source": [
        "#@title Download the dataset\n",
        "!wget -qq https://cdn.iisc.talentsprint.com/CDS/Datasets/gender_height_weight.csv"
      ],
      "execution_count": null,
      "outputs": []
    },
    {
      "cell_type": "code",
      "metadata": {
        "id": "GWxgfUM1tpr1"
      },
      "source": [
        "filename = \"gender_height_weight.csv\""
      ],
      "execution_count": null,
      "outputs": []
    },
    {
      "cell_type": "markdown",
      "metadata": {
        "id": "zHQmMjFFvGJE"
      },
      "source": [
        "Now let's take a look at the contents of the file(dataset) by using the shell command *head*"
      ]
    },
    {
      "cell_type": "code",
      "metadata": {
        "id": "IkONac19uYO-"
      },
      "source": [
        "! head gender_height_weight.csv"
      ],
      "execution_count": null,
      "outputs": []
    },
    {
      "cell_type": "markdown",
      "metadata": {
        "id": "2ihAyhzavV2G"
      },
      "source": [
        "We start by simply reading the file and storing it. But we want to skip the first line as it is a header and does not have data. We also want to store the data instead of merely printing it. But we will print the first ten items to verify that all is well."
      ]
    },
    {
      "cell_type": "code",
      "metadata": {
        "id": "G1vO0Trvu_mX"
      },
      "source": [
        "firstLine = True\n",
        "data = [] # Empty list to the data\n",
        "for line in open(filename):\n",
        "    if firstLine:\n",
        "        firstLine = False\n",
        "    else:\n",
        "        data.append(line) # Appending the data from a file to the list\n",
        "print(data[:10]) # Printing first 10 records from the list"
      ],
      "execution_count": null,
      "outputs": []
    },
    {
      "cell_type": "markdown",
      "metadata": {
        "id": "Pg0t8XvLv7Tz"
      },
      "source": [
        "As you can see, there are some extraneous stuff:\n",
        "  1. A \\n at the end of each line\n",
        "  2. The double quotes around the gender\n",
        "  3. Also the line is a single string separated by commas\n",
        "  \n",
        "Now let us see how to handle such kind of issues "
      ]
    },
    {
      "cell_type": "code",
      "metadata": {
        "id": "EToyO3bevn8i"
      },
      "source": [
        "firstLine = True\n",
        "COMMA = ','\n",
        "QUOTE = '\"'\n",
        "data = []\n",
        "for line in open(filename):\n",
        "    if firstLine:\n",
        "        firstLine = False\n",
        "    else:\n",
        "        g, h, w= line.strip().split(COMMA)\n",
        "        data.append([g.strip(QUOTE), float(h), float(w)])\n",
        "print(data[:10])"
      ],
      "execution_count": null,
      "outputs": []
    },
    {
      "cell_type": "markdown",
      "metadata": {
        "id": "5hw8vGUxwOCL"
      },
      "source": [
        "Now let us clean the data by converting inches to cm, pounds to kg and round these to the nearest integer."
      ]
    },
    {
      "cell_type": "code",
      "metadata": {
        "id": "8LO_bUwhwI3_"
      },
      "source": [
        "firstLine = True\n",
        "COMMA = ','\n",
        "QUOTE = '\"'\n",
        "INCH2CM = 2.54\n",
        "POUND2KG = 0.4536\n",
        "data = []\n",
        "for line in open(filename):\n",
        "    if firstLine:\n",
        "        firstLine = False\n",
        "    else:\n",
        "        g, h, w = line.strip().split(COMMA)\n",
        "        g = g.strip(QUOTE)\n",
        "        h_cm = int(float(h) * INCH2CM + 0.5)\n",
        "        w_kg = int(float(w) * POUND2KG + 0.5)\n",
        "        data.append([g, h_cm, w_kg])\n",
        "print(data[:1])"
      ],
      "execution_count": null,
      "outputs": []
    },
    {
      "cell_type": "markdown",
      "metadata": {
        "id": "BhLAsshuww8g"
      },
      "source": [
        "One reason python is popular for Scientific Computing is the availability of libraries that do a lot of standard, grunt work in a few lines. Now let us see how the pandas library can make short work of all the above"
      ]
    },
    {
      "cell_type": "code",
      "metadata": {
        "id": "c_TMjBC5wpNl"
      },
      "source": [
        "import pandas as pd # Importing Pandas library"
      ],
      "execution_count": null,
      "outputs": []
    },
    {
      "cell_type": "code",
      "metadata": {
        "id": "EyyC4wJSxBWC"
      },
      "source": [
        "pd.read_csv(filename)"
      ],
      "execution_count": null,
      "outputs": []
    },
    {
      "cell_type": "markdown",
      "metadata": {
        "id": "Krg42px2xHXR"
      },
      "source": [
        "As you can see, pandas gives you a nice display! It figured out the column titles and numbered the data also. It actually loads the data into a dataframe, and we can treat each column as a dictionary whose key is the column name and value is the actual data in the column. Note that the datatype has been inferred too."
      ]
    },
    {
      "cell_type": "code",
      "metadata": {
        "id": "MC4Jcsw9xDfx"
      },
      "source": [
        "data = pd.read_csv(filename) # Storing the data in a pandas dataframe named \"data\""
      ],
      "execution_count": null,
      "outputs": []
    },
    {
      "cell_type": "code",
      "metadata": {
        "id": "x8Lh6aICxRBD"
      },
      "source": [
        "type(data['Gender'][0]), type(data['Height'][1]), type(data['Weight'][30]) # Checking the datatypes of each column"
      ],
      "execution_count": null,
      "outputs": []
    },
    {
      "cell_type": "code",
      "metadata": {
        "id": "ZWUet4cFxUeF"
      },
      "source": [
        "# Let's display first 10 rows from the dataset\n",
        "data.head(10)"
      ],
      "execution_count": null,
      "outputs": []
    },
    {
      "cell_type": "code",
      "metadata": {
        "id": "2n1AcQMcxiAo"
      },
      "source": [
        "# Let's display the last 10 rows from the dataset\n",
        "\n",
        "data.tail(10)"
      ],
      "execution_count": null,
      "outputs": []
    },
    {
      "cell_type": "code",
      "metadata": {
        "id": "75WQQKeZxnH_"
      },
      "source": [
        "# Let's check the size of the dataset(number of rows and columns)\n",
        "data.shape # first element indicates the number of rows and second element indicates the number of columns"
      ],
      "execution_count": null,
      "outputs": []
    },
    {
      "cell_type": "code",
      "metadata": {
        "id": "wcEyQMclxy1_"
      },
      "source": [
        "# Let's display data of Weight column\n",
        "\n",
        "data[\"Weight\"]"
      ],
      "execution_count": null,
      "outputs": []
    },
    {
      "cell_type": "markdown",
      "metadata": {
        "id": "dm2W7NWKyS2J"
      },
      "source": [
        "Pandas gives you even more flexibility as part of the read_csv function. We can attach converters to selected columns.  "
      ]
    },
    {
      "cell_type": "code",
      "metadata": {
        "id": "WL1ziva2yXQB"
      },
      "source": [
        "INCH2CM = 2.54\n",
        "POUND2KG = 0.4536\n",
        "def inches2cms(s):\n",
        "    return int(float(s) * INCH2CM + 0.5)\n",
        "def pounds2kgs(s):\n",
        "    return int(float(s) * POUND2KG + 0.5)"
      ],
      "execution_count": null,
      "outputs": []
    },
    {
      "cell_type": "code",
      "metadata": {
        "id": "KBMZhvLlyZLs"
      },
      "source": [
        "cleanedData = pd.read_csv(filename, converters={'Height':inches2cms, 'Weight':pounds2kgs})"
      ],
      "execution_count": null,
      "outputs": []
    },
    {
      "cell_type": "code",
      "metadata": {
        "id": "USk2gg9Gylcc"
      },
      "source": [
        "cleanedData.head()"
      ],
      "execution_count": null,
      "outputs": []
    },
    {
      "cell_type": "code",
      "metadata": {
        "id": "qkzkDDkfynF1"
      },
      "source": [
        "# Guess what get's printed before executing the cell\n",
        "\n",
        "cleanedData[:10] "
      ],
      "execution_count": null,
      "outputs": []
    },
    {
      "cell_type": "code",
      "metadata": {
        "id": "FRfM7XTMyr97"
      },
      "source": [
        "# Guess what get's printed before executing the cell\n",
        "\n",
        "for line in cleanedData:\n",
        "    print(line)"
      ],
      "execution_count": null,
      "outputs": []
    },
    {
      "cell_type": "code",
      "metadata": {
        "id": "uCQC4BXtzEgM"
      },
      "source": [
        "# Guess what get's printed before executing the cell\n",
        "for line in cleanedData.values:\n",
        "    print(line)"
      ],
      "execution_count": null,
      "outputs": []
    },
    {
      "cell_type": "code",
      "metadata": {
        "id": "-0tjkUczzKJX"
      },
      "source": [
        "# Guess what get's printed before executing the cell\n",
        "\n",
        "cleanedData[cleanedData.Gender=='Male']"
      ],
      "execution_count": null,
      "outputs": []
    },
    {
      "cell_type": "code",
      "metadata": {
        "id": "tWzCEWkRzZOC"
      },
      "source": [
        "# Guess what get's printed before executing the cell\n",
        "cleanedData[cleanedData.Height ==170]"
      ],
      "execution_count": null,
      "outputs": []
    },
    {
      "cell_type": "code",
      "metadata": {
        "id": "jGVLaKcb8koi",
        "outputId": "7354d856-c2b4-4969-dc13-a49d028bdda3",
        "colab": {
          "base_uri": "https://localhost:8080/"
        }
      },
      "source": [
        "import pandas as pd\r\n",
        "from tabulate import tabulate \r\n",
        "\r\n",
        "def _convert_str_to_int(s):\r\n",
        "    return float(s.replace(',', '')) \r\n",
        "\r\n",
        "df=pd.read_csv(\"/content/sample_data/CalendarSpread.csv\")\r\n",
        "# df=df.set_index(['Delta','Pref_iss_nme'])\r\n",
        "df['Variance']=pow(df['Price'],2)\r\n",
        "df.TenorDays=df.TenorDays.apply(lambda s:_convert_str_to_int(s))\r\n",
        "df['Variance']=(pow(df['Price'],2)*df.TenorDays)/10000\r\n",
        "df=df.set_index('Delta')\r\n",
        "df[\"Return\"] = df.groupby(\"Delta\")[\"Variance\"].pct_change(1)<1\r\n",
        "df=df.loc[20]\r\n",
        "# df.style.applymap(color_negative_red) \r\n",
        "print(tabulate(df, headers = 'keys', tablefmt = 'fancy_grid')) \r\n",
        "# df.transpose\r\n"
      ],
      "execution_count": 184,
      "outputs": [
        {
          "output_type": "stream",
          "text": [
            "╒═════════╤═════════╤═══════════════════╤═════════╤═════════════╤════════════╤══════════╕\n",
            "│   Delta │ Tenor   │ Pref_iss_nme      │   Price │   TenorDays │   Variance │ Return   │\n",
            "╞═════════╪═════════╪═══════════════════╪═════════╪═════════════╪════════════╪══════════╡\n",
            "│      20 │ 1W      │ EQOPTION_1W_0.2   │   33.12 │           8 │   0.877548 │ False    │\n",
            "├─────────┼─────────┼───────────────────┼─────────┼─────────────┼────────────┼──────────┤\n",
            "│      20 │ 1M      │ EQOPTION_1M_0.2   │   18.89 │          43 │   1.53438  │ True     │\n",
            "├─────────┼─────────┼───────────────────┼─────────┼─────────────┼────────────┼──────────┤\n",
            "│      20 │ 2M      │ EQOPTION_2M_0.2   │   16.45 │          71 │   1.92128  │ True     │\n",
            "├─────────┼─────────┼───────────────────┼─────────┼─────────────┼────────────┼──────────┤\n",
            "│      20 │ 3M      │ EQOPTION_3M_0.2   │   15.59 │          99 │   2.40618  │ True     │\n",
            "├─────────┼─────────┼───────────────────┼─────────┼─────────────┼────────────┼──────────┤\n",
            "│      20 │ 6M      │ EQOPTION_6M_0.2   │   14.77 │         162 │   3.53408  │ True     │\n",
            "├─────────┼─────────┼───────────────────┼─────────┼─────────────┼────────────┼──────────┤\n",
            "│      20 │ 9M      │ EQOPTION_9M_0.2   │   14.57 │         253 │   5.37081  │ True     │\n",
            "├─────────┼─────────┼───────────────────┼─────────┼─────────────┼────────────┼──────────┤\n",
            "│      20 │ 11M     │ EQOPTION_11M_0.2  │   14.52 │         344 │   7.25257  │ True     │\n",
            "├─────────┼─────────┼───────────────────┼─────────┼─────────────┼────────────┼──────────┤\n",
            "│      20 │ 1Y      │ EQOPTION_1Y_0.2   │   14.44 │         435 │   9.07034  │ True     │\n",
            "├─────────┼─────────┼───────────────────┼─────────┼─────────────┼────────────┼──────────┤\n",
            "│      20 │ 1.5Y    │ EQOPTION_1.5Y_0.2 │   14.76 │         526 │  11.4593   │ True     │\n",
            "├─────────┼─────────┼───────────────────┼─────────┼─────────────┼────────────┼──────────┤\n",
            "│      20 │ 2Y      │ EQOPTION_2Y_0.2   │   15.05 │         708 │  16.0364   │ True     │\n",
            "├─────────┼─────────┼───────────────────┼─────────┼─────────────┼────────────┼──────────┤\n",
            "│      20 │ 3Y      │ EQOPTION_3Y_0.2   │   15.39 │        1072 │  25.3905   │ True     │\n",
            "├─────────┼─────────┼───────────────────┼─────────┼─────────────┼────────────┼──────────┤\n",
            "│      20 │ 4Y      │ EQOPTION_4Y_0.2   │   25    │        1443 │  90.1875   │ False    │\n",
            "├─────────┼─────────┼───────────────────┼─────────┼─────────────┼────────────┼──────────┤\n",
            "│      20 │ 5Y      │ EQOPTION_5Y_0.2   │   16.52 │        1807 │  49.3149   │ True     │\n",
            "├─────────┼─────────┼───────────────────┼─────────┼─────────────┼────────────┼──────────┤\n",
            "│      20 │ 6Y      │ EQOPTION_6Y_0.2   │   16.63 │        2171 │  60.0405   │ True     │\n",
            "├─────────┼─────────┼───────────────────┼─────────┼─────────────┼────────────┼──────────┤\n",
            "│      20 │ 7Y      │ EQOPTION_7Y_0.2   │   16.58 │        2535 │  69.6862   │ True     │\n",
            "├─────────┼─────────┼───────────────────┼─────────┼─────────────┼────────────┼──────────┤\n",
            "│      20 │ 8Y      │ EQOPTION_8Y_0.2   │   16.59 │        2899 │  79.7886   │ True     │\n",
            "├─────────┼─────────┼───────────────────┼─────────┼─────────────┼────────────┼──────────┤\n",
            "│      20 │ 9Y      │ EQOPTION_9Y_0.2   │   16.59 │        3270 │  89.9996   │ True     │\n",
            "╘═════════╧═════════╧═══════════════════╧═════════╧═════════════╧════════════╧══════════╛\n"
          ],
          "name": "stdout"
        }
      ]
    }
  ]
}